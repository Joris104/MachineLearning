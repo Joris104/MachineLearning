{
 "cells": [
  {
   "cell_type": "markdown",
   "metadata": {},
   "source": [
    "# Getting Started Notebook: Stage 2\n",
    "\n",
    "This notebook illustrates how to use the datasets provided to you and will be required to submit your first model.\n",
    "This notebook follows the same structure as the stage 1 notebook, but you will need to perform some additional steps such as feature extraction.\n",
    "\n",
    "## 0. Dependencies\n",
    "\n",
    "This notebook requires several Python **3** packages, which are included in Anaconda 3 for Python 3.8, which is the python distribution we recommend you to use throughout this course.\n",
    "The package versions listed below have been used for testing and are confirmed to work well.\n",
    "We strongly recommend you to install these specific versions to ensure this notebook works as expected and we can offer you optimal support throughout the competition.\n",
    "\n",
    "python: 3.8\n",
    "\n",
    "scikit-learn: 1.0.0\n",
    "\n",
    "numpy: 1.20.1\n",
    "\n",
    "matplotlib: 3.4.3"
   ]
  },
  {
   "cell_type": "code",
   "execution_count": 1,
   "metadata": {},
   "outputs": [
    {
     "name": "stdout",
     "output_type": "stream",
     "text": [
      "Requirement already satisfied: scikit-learn==1.0.0 in /home/miguel/.local/lib/python3.8/site-packages (1.0)\n",
      "Requirement already satisfied: numpy in /usr/local/lib/python3.8/dist-packages (1.19.4)\n",
      "Requirement already satisfied: matplotlib in /usr/local/lib/python3.8/dist-packages (3.3.3)\n",
      "Requirement already satisfied: scipy>=1.1.0 in /home/miguel/.local/lib/python3.8/site-packages (from scikit-learn==1.0.0) (1.7.1)\n",
      "Requirement already satisfied: threadpoolctl>=2.0.0 in /home/miguel/.local/lib/python3.8/site-packages (from scikit-learn==1.0.0) (3.0.0)\n",
      "Requirement already satisfied: joblib>=0.11 in /home/miguel/.local/lib/python3.8/site-packages (from scikit-learn==1.0.0) (1.1.0)\n",
      "Requirement already satisfied: kiwisolver>=1.0.1 in /usr/local/lib/python3.8/dist-packages (from matplotlib) (1.3.1)\n",
      "Requirement already satisfied: pillow>=6.2.0 in /usr/lib/python3/dist-packages (from matplotlib) (7.0.0)\n",
      "Requirement already satisfied: python-dateutil>=2.1 in /usr/lib/python3/dist-packages (from matplotlib) (2.7.3)\n",
      "Requirement already satisfied: pyparsing!=2.0.4,!=2.1.2,!=2.1.6,>=2.0.3 in /usr/lib/python3/dist-packages (from matplotlib) (2.4.6)\n",
      "Requirement already satisfied: cycler>=0.10 in /usr/local/lib/python3.8/dist-packages (from matplotlib) (0.10.0)\n",
      "Requirement already satisfied: six in /usr/lib/python3/dist-packages (from cycler>=0.10->matplotlib) (1.14.0)\n"
     ]
    }
   ],
   "source": [
    "!pip install scikit-learn==1.0.0 numpy matplotlib"
   ]
  },
  {
   "cell_type": "markdown",
   "metadata": {},
   "source": [
    "## 1. How to use this Notebook\n",
    "\n",
    "This Notebook is based on the stage 1 notebook and provides a sample structure to load data, extract features, and train and tune a scikit-learn pipeline for stage 2.\n",
    "You are not required to follow this exact structure.\n",
    "After you have completed all necessary steps, this notebook will generate a CSV (.csv) file to be submitted on the [Kaggle competition page](https://www.kaggle.com/c/ugentml21-slc-2/)"
   ]
  },
  {
   "cell_type": "code",
   "execution_count": 2,
   "metadata": {},
   "outputs": [],
   "source": [
    "# your data, used to name the output file\n",
    "student_id = \"02010068\"\n",
    "student_lastname = \"Dagrain\" \n",
    "student_firstname = \"Miguel\"\n",
    "\n",
    "# change this if you would like your submission outputfile to have a more detailed name, e.g. submission_with_special_preprocessing \n",
    "submission_prefix='submission'\n",
    "\n",
    "# whether or not you want your created models and submissions versioned using timestamps\n",
    "# (setting this to False will overwrite previously exported model and submission files of the same name)\n",
    "use_timestamps = True"
   ]
  },
  {
   "cell_type": "markdown",
   "metadata": {},
   "source": [
    "## 2. Loading the data\n",
    "\n",
    "The dataset contains videos of people signing in Flemish sign language (Vlaamse Gebarentaal). It consists of 15 classes corresponding to lexical signs. From these videos, 3D keypoints were extracted using MediaPipe Holistic. In total, there are 125 keypoints, resulting in 375 (=3x125) floating point values per video frame.\n",
    "\n",
    "In this stage, we expect that you perform your own feature engineering. As a baseline, you can start by extracting the same set of features as we did for stage 1.\n",
    "You can then compare this and future models with the baseline on the Kaggle competition page.\n",
    "\n",
    "As a reminder: the set of features in stage 1 were the time averages of all keypoint coordinates over the first and the second half of the sample frames, so 750 features in total."
   ]
  },
  {
   "cell_type": "markdown",
   "metadata": {},
   "source": [
    "We start by importing the libraries we need: \n",
    "- sklearn and numpy to do machine learning, \n",
    "- csv and pickle read the data and write out submission and model files, \n",
    "- time and os to keep organized with the files we output,\n",
    "- matplotlib to perform visualizations.\n",
    "We also import some specific sklearn components as well as an utils library with some handy extra functions."
   ]
  },
  {
   "cell_type": "code",
   "execution_count": 3,
   "metadata": {},
   "outputs": [],
   "source": [
    "import sklearn\n",
    "import numpy as np\n",
    "import csv\n",
    "import pickle\n",
    "import time\n",
    "import os\n",
    "import matplotlib.pyplot as plt\n",
    "\n",
    "%matplotlib inline\n",
    "\n",
    "from sklearn.preprocessing import LabelEncoder\n",
    "from sklearn.pipeline import Pipeline\n",
    "from sklearn.model_selection import StratifiedGroupKFold, GridSearchCV\n",
    "\n",
    "import utils_for_students"
   ]
  },
  {
   "cell_type": "markdown",
   "metadata": {},
   "source": [
    "We can use our utils_for_students library to load the data from disk. Remember to put the [unzipped files from the competition page](https://www.kaggle.com/c/ugentml21-slc-2/data) into the right paths on your filesystem.\n",
    "\n",
    "**Note: stage 2 uses different data files than stage 1!**"
   ]
  },
  {
   "cell_type": "code",
   "execution_count": 4,
   "metadata": {},
   "outputs": [],
   "source": [
    "train_samples = utils_for_students.load_dataset_stage2('data/stage2_labels_train.csv', 'train')\n",
    "test_samples = utils_for_students.load_dataset_stage2('data/stage2_ids_test.csv', 'test')"
   ]
  },
  {
   "cell_type": "markdown",
   "metadata": {},
   "source": [
    "For the train data, we get a list of python dictionaries, where each dictionary corresponds to one sign language clip. The dictionary has the following keys:"
   ]
  },
  {
   "cell_type": "code",
   "execution_count": 5,
   "metadata": {},
   "outputs": [
    {
     "data": {
      "text/plain": [
       "dict_keys(['path', 'id', 'label', 'signer'])"
      ]
     },
     "execution_count": 5,
     "metadata": {},
     "output_type": "execute_result"
    }
   ],
   "source": [
    "train_samples[0].keys()"
   ]
  },
  {
   "cell_type": "markdown",
   "metadata": {},
   "source": [
    "For the test data, we also get a list of python dictionaries, but with fewer keys:"
   ]
  },
  {
   "cell_type": "code",
   "execution_count": 6,
   "metadata": {},
   "outputs": [
    {
     "data": {
      "text/plain": [
       "dict_keys(['path', 'id'])"
      ]
     },
     "execution_count": 6,
     "metadata": {},
     "output_type": "execute_result"
    }
   ],
   "source": [
    "test_samples[0].keys()"
   ]
  },
  {
   "cell_type": "markdown",
   "metadata": {},
   "source": [
    "You can load an individual sample using the provided code."
   ]
  },
  {
   "cell_type": "code",
   "execution_count": 7,
   "metadata": {},
   "outputs": [],
   "source": [
    "sample = train_samples[0]\n",
    "\n",
    "landmark_sequence = utils_for_students.load_sample_stage2(os.path.join('data/stage2/train/', sample['path']))"
   ]
  },
  {
   "cell_type": "markdown",
   "metadata": {},
   "source": [
    "We can use the utility code to create a visualization of individual video frames of every sign instance."
   ]
  },
  {
   "cell_type": "code",
   "execution_count": 8,
   "metadata": {},
   "outputs": [
    {
     "data": {
      "image/png": "[encoded data removed]",
      "text/plain": [
       "<Figure size 432x288 with 1 Axes>"
      ]
     },
     "metadata": {
      "needs_background": "light"
     },
     "output_type": "display_data"
    }
   ],
   "source": [
    "FRAME_INDEX = 0\n",
    "\n",
    "utils_for_students.visualize_pose(landmark_sequence[FRAME_INDEX], plt)"
   ]
  },
  {
   "cell_type": "markdown",
   "metadata": {},
   "source": [
    "In order to get a better grasp of every class in the dataset, we provide some additional information here.\n",
    "\n",
    "There are 15 different classes. Each class corresponds to a sign. Signs can be annotated using sign glosses, which are representations of signs in written form in a spoken language. In the below table, we list all glosses, the English meaning of the corresponding sign, and provide a link to the Flemish sign language dictionary so that you can see an example performance of that sign.\n",
    "\n",
    "| Gloss             | English meaning | Dictionary URL                                                                                        |\n",
    "|-------------------|-----------------|-------------------------------------------------------------------------------------------------------|\n",
    "| c.AF              | Done, finished  | https://vlaamsegebarentaal.be/signbank/dictionary/protected_media/glossvideo/AF/AF-B-209.mp4          |\n",
    "| c.OOK             | Too, also       | https://vlaamsegebarentaal.be/signbank/dictionary/protected_media/glossvideo/OO/OOK-A-8491.mp4        |\n",
    "| ZELFDE-A          | The same        | https://vlaamsegebarentaal.be/signbank/dictionary/protected_media/glossvideo/ZE/ZELFDE-A-14290.mp4    |\n",
    "| AUTO-RIJDEN-A     | To drive a car  | https://vlaamsegebarentaal.be/signbank/dictionary/protected_media/glossvideo/RI/RIJDEN-C-9982.mp4     |\n",
    "| HEBBEN-A          | To have         | https://vlaamsegebarentaal.be/signbank/dictionary/protected_media/glossvideo/HE/HEBBEN-A-4801.mp4     |\n",
    "| HAAS-oor          | Hare            | https://vlaamsegebarentaal.be/signbank/dictionary/protected_media/glossvideo/HA/HAAS-B-16147.mp4      |\n",
    "| AANKOMEN-A        | To arrive       | https://vlaamsegebarentaal.be/signbank/dictionary/protected_media/glossvideo/AA/AANKOMEN-A-39.mp4     |\n",
    "| SCHILDPAD-Bhanden | Turtle          | https://vlaamsegebarentaal.be/signbank/dictionary/protected_media/glossvideo/SC/SCHILDPAD-A-10503.mp4 |\n",
    "| WAT-A             | What            | https://vlaamsegebarentaal.be/signbank/dictionary/protected_media/glossvideo/WA/WAT-A-13657.mp4       |\n",
    "| c.ZIEN            | To see          | https://vlaamsegebarentaal.be/signbank/dictionary/protected_media/glossvideo/BE/BEKIJKEN-A-1157.mp4   |\n",
    "| NAAR-A            | Towards         | https://vlaamsegebarentaal.be/signbank/dictionary/protected_media/glossvideo/GA/GA-NAAR-A-4032.mp4    |\n",
    "| MOETEN-A          | To must         | https://vlaamsegebarentaal.be/signbank/dictionary/protected_media/glossvideo/MO/MOETEN-D-17652.mp4    |\n",
    "| C: 1              | 1               | https://vlaamsegebarentaal.be/signbank/dictionary/protected_media/glossvideo/1-/1-A-15277.mp4         |\n",
    "| GOED-A            | Good            | https://vlaamsegebarentaal.be/signbank/dictionary/protected_media/glossvideo/GO/GOED-C-4413.mp4       |\n",
    "| C: 2              | 2               | https://vlaamsegebarentaal.be/signbank/dictionary/protected_media/glossvideo/2-/2-A-15278.mp4         |"
   ]
  },
  {
   "cell_type": "markdown",
   "metadata": {},
   "source": [
    "## 3. Feature Extraction\n",
    "\n",
    "For stage 1, we performed feature extraction for you.\n",
    "\n",
    "In this stage, you will need to perform feature extraction yourself."
   ]
  },
  {
   "cell_type": "code",
   "execution_count": 11,
   "metadata": {},
   "outputs": [],
   "source": [
    "#from frame_avg import extract_features\n",
    "#from sklearn.preprocessing import normalize\n",
    "from vectors import extract_features\n",
    "# def extract_features(pose_sequence):\n",
    "#     NUM_SLICES = 2 #TODO : inspect how performance changes with more slices\n",
    "#     size = len(pose_sequence[0])*len(pose_sequence[0][0]) # number of keypoints * number of values per keypoint\n",
    "#     pose_sequence = split_features_into_frames(pose_sequence, NUM_SLICES)\n",
    "#     poses = np.array_split(pose_sequence,NUM_SLICES) #some of these may be empty\n",
    "# #     poses_normalized = []\n",
    "# #     for pose in poses:\n",
    "# #         pose_sorted = pose.reshape(int(pose.shape[0]/3), 3)\n",
    "# #         pose_sorted = pose_sorted - pose_sorted.mean(axis=0)\n",
    "# #         #pose_sorted_normalized = sklearn.preprocessing.normalize(pose_sorted)\n",
    "# #         pose = pose_sorted.flatten()\n",
    "# #         poses_normalized.append(pose)\n",
    "#     #poses_normalized = sklearn.preprocessing.normalize(poses_normalized)\n",
    "#     features = poses[0] #save the initial position\n",
    "#     #here you cut to much information, in the middle of the video we are not necessarily on the same position\n",
    "#     for i in range(1, NUM_SLICES):\n",
    "#         vector = poses[i] - poses[i-1]\n",
    "#         features  = np.append(features, vector)\n",
    "#     return features\n",
    "#     #return np.array(poses_normalized).flatten()"
   ]
  },
  {
   "cell_type": "code",
   "execution_count": 12,
   "metadata": {},
   "outputs": [],
   "source": [
    "from utils_feature_preprocessing import correct_zeros\n",
    "# Concatenate the training set features.\n",
    "X_train = []\n",
    "y_train = []\n",
    "signers_train = []\n",
    "for sample in train_samples:\n",
    "    pose_sequence = utils_for_students.load_sample_stage2(os.path.join('data/stage2/train/', sample['path']))\n",
    "    pose_sequence = correct_zeros(pose_sequence)\n",
    "    X_train.append(extract_features(pose_sequence))\n",
    "    y_train.append(sample['label'])\n",
    "    signers_train.append(sample['signer'])\n",
    "    \n",
    "# Concatenate the test set features.\n",
    "X_test = []\n",
    "test_ids = []\n",
    "for sample in test_samples:\n",
    "    pose_sequence = utils_for_students.load_sample_stage2(os.path.join('data/stage2/test/', sample['path']))\n",
    "    pose_sequence = correct_zeros(pose_sequence)\n",
    "    X_test.append(extract_features(pose_sequence))\n",
    "    test_ids.append(sample['id'])\n",
    "\n",
    "#Combining to numpy array\n",
    "X_train = np.stack(X_train)\n",
    "X_test = np.stack(X_test)\n",
    "\n",
    "# Encode the labels as integers\n",
    "label_encoder = utils_for_students.label_encoder()\n",
    "y_train = label_encoder.transform(y_train)"
   ]
  },
  {
   "cell_type": "code",
   "execution_count": 13,
   "metadata": {},
   "outputs": [
    {
     "name": "stdout",
     "output_type": "stream",
     "text": [
      "(2191, 750)\n",
      "(541, 750)\n",
      "[ 5.91577282e-01  3.78286968e-01 -2.86928013e-01  6.03643487e-01\n",
      "  3.46427446e-01 -2.58362256e-01  6.10377789e-01  3.47145076e-01\n",
      " -2.58760711e-01  6.17259234e-01  3.47173274e-01 -2.58759312e-01\n",
      "  5.82812428e-01  3.45205933e-01 -2.62428480e-01  5.76285193e-01\n",
      "  3.44554747e-01 -2.62777999e-01  5.70241481e-01  3.43811611e-01\n",
      " -2.63034711e-01  6.27112011e-01  3.53380963e-01 -9.19988013e-02\n",
      "  5.63872258e-01  3.51935064e-01 -1.09662503e-01  6.06627146e-01\n",
      "  4.06948984e-01 -2.19758605e-01  5.82404792e-01  4.04490660e-01\n",
      " -2.27568862e-01  6.65919234e-01  5.14250706e-01  9.42027379e-03\n",
      "  5.16301920e-01  5.04570842e-01 -6.29098974e-02  7.05310414e-01\n",
      "  7.50590682e-01 -8.58137080e-02  5.44967661e-01  7.47737060e-01\n",
      " -2.57351602e-01  5.94993909e-01  7.59710014e-01 -3.54945322e-01\n",
      "  6.19667431e-01  5.40412545e-01 -5.42192280e-01  5.67901512e-01\n",
      "  7.63972978e-01 -4.10544410e-01  6.50521199e-01  4.99925216e-01\n",
      " -6.24869655e-01  5.62727243e-01  7.41009136e-01 -4.11703030e-01\n",
      "  6.41804953e-01  4.68531594e-01 -6.05181098e-01  5.70979118e-01\n",
      "  7.40755598e-01 -3.58120690e-01  6.32731199e-01  4.86443813e-01\n",
      " -5.42564124e-01  5.88259727e-01  3.99179166e-01 -6.83039504e-03\n",
      "  5.89434842e-01  4.04520541e-01 -3.56603720e-03  5.89702487e-01\n",
      "  4.07288199e-01 -2.66970702e-03  5.90216617e-01  4.17104011e-01\n",
      " -2.16437226e-03  5.84590187e-01  3.98627987e-01 -5.60220455e-03\n",
      "  5.81480672e-01  4.00285775e-01 -2.72032498e-03  5.79830577e-01\n",
      "  4.02343988e-01  6.17286758e-04  5.61279058e-01  3.36907883e-01\n",
      "  4.86551768e-03  5.66737761e-01  3.31667900e-01 -2.91593062e-03\n",
      "  5.63217272e-01  3.33199094e-01  7.09601220e-04  5.79230318e-01\n",
      "  3.36198375e-01 -7.95372739e-03  5.78358889e-01  4.05672605e-01\n",
      "  7.45396037e-03  5.61737518e-01  3.29307487e-01  2.13690857e-03\n",
      "  5.71951489e-01  3.32466458e-01 -5.87136027e-03  5.71047316e-01\n",
      "  3.27740545e-01 -6.90395463e-03  5.59849898e-01  3.34271630e-01\n",
      "  7.61215459e-03  5.80273896e-01  4.05011659e-01  6.03681112e-03\n",
      "  5.82899888e-01  4.04498657e-01  1.60156658e-03  5.84595641e-01\n",
      "  4.04574965e-01 -5.37653551e-04  5.86763471e-01  4.04668232e-01\n",
      " -2.42328407e-03  5.86452574e-01  4.16736136e-01 -1.11730475e-03\n",
      "  5.86795052e-01  4.07366912e-01 -1.45472872e-03  5.82730502e-01\n",
      "  4.06589776e-01  2.40833533e-03  5.81084728e-01  4.11396911e-01\n",
      "  2.96981889e-03  5.81658036e-01  4.06161636e-01  4.65172413e-03\n",
      "  5.65553168e-01  3.26981296e-01 -2.60130551e-03  5.77662816e-01\n",
      "  3.29043572e-01 -9.78335614e-03  5.79587420e-01  4.08356587e-01\n",
      "  5.53555802e-03  5.84477683e-01  4.07050038e-01  3.89441103e-04\n",
      "  5.83385020e-01  4.14775843e-01  9.40639026e-04  5.78763048e-01\n",
      "  4.03825561e-01  4.16999039e-03  5.81543952e-01  4.04344330e-01\n",
      "  4.13619921e-03  5.92320989e-01  3.97396833e-01 -7.28728327e-03\n",
      "  5.97197076e-01  3.97923340e-01 -6.08756859e-03  6.00765874e-01\n",
      "  3.98936604e-01 -4.05963681e-03  6.16259078e-01  3.28830947e-01\n",
      " -6.83006768e-03  6.06619636e-01  3.25639943e-01 -1.09995472e-02\n",
      "  6.11978441e-01  3.26003879e-01 -9.47229999e-03  5.92116237e-01\n",
      "  3.34220807e-01 -1.06110539e-02  6.05312794e-01  4.00946324e-01\n",
      "  1.12345312e-03  6.13967647e-01  3.21400175e-01 -8.75447830e-03\n",
      "  6.00032777e-01  3.28178257e-01 -1.14198347e-02  6.00301494e-01\n",
      "  3.23134447e-01 -1.26180787e-02  6.18799398e-01  3.25324943e-01\n",
      " -4.91930971e-03  6.03479018e-01  4.00934860e-01  6.14879644e-04\n",
      "  5.98813206e-01  4.01605422e-01 -2.20719841e-03  5.95934967e-01\n",
      "  4.02618428e-01 -3.36800958e-03  5.92800697e-01  4.03646514e-01\n",
      " -3.99203540e-03  5.94487856e-01  4.15733625e-01 -2.80576960e-03\n",
      "  5.93178441e-01  4.06486531e-01 -3.06484631e-03  5.99354714e-01\n",
      "  4.03849696e-01 -1.37918876e-03  6.01492395e-01  4.08269823e-01\n",
      " -1.19113516e-03  6.01344615e-01  4.02754972e-01 -7.05249495e-05\n",
      "  6.07622812e-01  3.20432107e-01 -1.11448434e-02  5.92591455e-01\n",
      "  3.26543664e-01 -1.26535109e-02  6.03777558e-01  4.04296006e-01\n",
      "  2.48978362e-04  5.96397718e-01  4.05206536e-01 -2.45143671e-03\n",
      "  5.98296434e-01  4.12634229e-01 -2.26534164e-03  6.03675852e-01\n",
      "  3.99524098e-01 -1.60914044e-03  6.01348609e-01  4.00787140e-01\n",
      " -6.41870451e-04  0.00000000e+00  0.00000000e+00  0.00000000e+00\n",
      "  0.00000000e+00  0.00000000e+00  0.00000000e+00  0.00000000e+00\n",
      "  0.00000000e+00  0.00000000e+00  0.00000000e+00  0.00000000e+00\n",
      "  0.00000000e+00  0.00000000e+00  0.00000000e+00  0.00000000e+00\n",
      "  0.00000000e+00  0.00000000e+00  0.00000000e+00  0.00000000e+00\n",
      "  0.00000000e+00  0.00000000e+00  0.00000000e+00  0.00000000e+00\n",
      "  0.00000000e+00  0.00000000e+00  0.00000000e+00  0.00000000e+00\n",
      "  0.00000000e+00  0.00000000e+00  0.00000000e+00  0.00000000e+00\n",
      "  0.00000000e+00  0.00000000e+00  0.00000000e+00  0.00000000e+00\n",
      "  0.00000000e+00  0.00000000e+00  0.00000000e+00  0.00000000e+00\n",
      "  0.00000000e+00  0.00000000e+00  0.00000000e+00  0.00000000e+00\n",
      "  0.00000000e+00  0.00000000e+00  0.00000000e+00  0.00000000e+00\n",
      "  0.00000000e+00  0.00000000e+00  0.00000000e+00  0.00000000e+00\n",
      "  0.00000000e+00  0.00000000e+00  0.00000000e+00  0.00000000e+00\n",
      "  0.00000000e+00  0.00000000e+00  0.00000000e+00  0.00000000e+00\n",
      "  0.00000000e+00  0.00000000e+00  0.00000000e+00  0.00000000e+00\n",
      "  6.07010270e-01  5.27887727e-01  5.47779774e-01  6.08177771e-01\n",
      "  4.91183966e-01  5.53607597e-01  6.16588448e-01  4.62065202e-01\n",
      "  5.53534645e-01  6.27288992e-01  4.50946478e-01  5.51252328e-01\n",
      "  6.36398027e-01  4.51872580e-01  5.49936872e-01  6.30309006e-01\n",
      "  4.39840590e-01  5.50621994e-01  6.43017655e-01  4.09511236e-01\n",
      "  5.47695058e-01  6.50137628e-01  3.98628568e-01  5.46761986e-01\n",
      "  6.54074455e-01  3.93071530e-01  5.46678093e-01  6.39562786e-01\n",
      "  4.50890149e-01  5.45335646e-01  6.55218080e-01  4.48905533e-01\n",
      "  5.44258970e-01  6.53838823e-01  4.60464023e-01  5.46964779e-01\n",
      "  6.48703679e-01  4.67483299e-01  5.49152377e-01  6.45924464e-01\n",
      "  4.68528258e-01  5.40141605e-01  6.56864852e-01  4.73893076e-01\n",
      "  5.40076532e-01  6.52365317e-01  4.82203459e-01  5.43456006e-01\n",
      "  6.46175722e-01  4.85604492e-01  5.45767959e-01  6.50559167e-01\n",
      "  4.88933206e-01  5.34669221e-01  6.57149151e-01  4.95291310e-01\n",
      "  5.35536984e-01  6.52630135e-01  5.01537825e-01  5.37902884e-01\n",
      "  6.46657422e-01  5.04455715e-01  5.39958123e-01  3.68445118e-03\n",
      "  6.17454449e-04 -3.48567665e-02  8.43306382e-04  5.49102823e-04\n",
      " -3.66608029e-02  1.40367945e-03  3.32410137e-04 -3.66797100e-02\n",
      "  2.00046102e-03  3.03288301e-04 -3.67228761e-02  1.78165237e-03\n",
      "  6.93033139e-04 -3.37467715e-02  1.15631024e-03  9.78340705e-04\n",
      " -3.37890635e-02  1.59305334e-03  1.08832121e-03 -3.38049084e-02\n",
      "  3.17392747e-03  2.23861635e-03 -3.85759901e-02 -5.39193551e-04\n",
      "  4.90824382e-04 -2.68404881e-02  2.09825238e-03 -8.50657622e-04\n",
      " -3.50128710e-02  2.10764011e-03  3.92784675e-04 -3.14460024e-02\n",
      "  2.15289990e-03  9.40610965e-04 -4.84174744e-02  1.21185184e-03\n",
      "  3.22302183e-04 -1.68529898e-03 -2.59173910e-03 -1.62266692e-03\n",
      " -3.24851964e-02 -4.97549772e-03 -7.60352612e-03  3.20923825e-04\n",
      "  9.68158245e-04 -5.19665082e-03 -3.16100816e-03 -2.14851002e-02\n",
      " -6.45413001e-03 -2.71895826e-02  1.18192037e-03 -6.90341989e-03\n",
      " -1.97915733e-03 -2.59721677e-02 -9.50118899e-03 -2.73846885e-02\n",
      "  5.06043434e-04 -9.04678305e-03 -3.68146598e-03 -2.72987187e-02\n",
      " -5.89688619e-03 -3.29979757e-02 -4.76608674e-04 -1.06996596e-02\n",
      " -3.13163797e-03 -2.58540114e-02 -5.07940352e-03 -3.02090844e-02\n",
      "  1.91479921e-04  7.76439905e-04  4.02757898e-04 -7.84198443e-05\n",
      "  4.62750594e-04  4.94856038e-04 -1.89612309e-04 -1.03239218e-03\n",
      "  3.80349074e-04 -3.34213177e-04 -2.02928980e-03  8.03828201e-05\n",
      "  1.82737907e-04  6.46089514e-04  1.72755371e-04  5.91079394e-05\n",
      "  4.90009785e-04 -7.28932209e-05 -4.50015068e-05  2.90503105e-04\n",
      " -3.69666897e-04  3.98615996e-04 -9.88925497e-04 -1.42003328e-03\n",
      "  6.14285469e-04 -6.59828385e-04 -9.16408103e-04  5.32140334e-04\n",
      " -7.51962264e-04 -1.18951049e-03  8.33729903e-04 -6.05935852e-04\n",
      " -2.30250492e-04 -3.48220269e-04 -1.65651242e-04 -7.92176618e-04\n",
      "  4.82360522e-04 -8.19846988e-04 -1.27389686e-03  6.91374143e-04\n",
      " -7.08426038e-04 -5.88565754e-04  7.30802615e-04 -7.16264049e-04\n",
      " -5.91795271e-04  3.23504210e-04 -1.16906067e-03 -1.55228664e-03\n",
      " -5.14239073e-04 -1.32769346e-04 -7.45484761e-04 -2.43584315e-04\n",
      "  1.80423260e-04 -2.27906993e-04 -1.17311875e-04  2.36218174e-04\n",
      "  5.14140193e-05 -3.76403332e-05  3.34893664e-04  2.80998744e-04\n",
      " -2.13573376e-04 -1.98970238e-03 -1.71667193e-04 -1.54972076e-04\n",
      " -1.07154747e-03  1.02306299e-04 -3.24557225e-04 -8.02099705e-04\n",
      " -4.77051906e-04 -2.92688608e-04 -1.29626691e-03 -6.91381070e-04\n",
      " -4.13537025e-04 -5.96592824e-04 -7.35345685e-04  5.83936771e-04\n",
      " -6.93117579e-04 -9.83590823e-04  9.41326221e-04 -6.46417340e-04\n",
      " -2.43349777e-04 -3.51667404e-04 -7.14788834e-04 -7.88724593e-04\n",
      " -2.19553709e-04 -1.00302696e-03 -1.92209234e-04 -2.22067038e-04\n",
      " -1.78432465e-03 -5.22909246e-04 -2.05645959e-04  1.54728691e-04\n",
      " -6.20517220e-04 -3.83377075e-04  1.51043137e-04 -5.27477823e-04\n",
      "  1.44342581e-04  9.94880994e-04  5.84702551e-04 -8.59697660e-05\n",
      "  1.18836264e-03  7.29660271e-04 -3.94999981e-04  1.29079322e-03\n",
      "  7.24899078e-04  7.84138838e-04  1.29184127e-03  1.05526244e-03\n",
      "  1.30104025e-03  8.02929203e-04  7.95798221e-04  1.08037392e-03\n",
      "  1.15964313e-03  9.87421721e-04  1.15777055e-03 -1.83860461e-04\n",
      "  3.49339874e-04 -8.86529684e-04  1.16105378e-03  6.30351870e-04\n",
      "  1.10963980e-03  1.28176312e-03  1.02578779e-03  1.33968393e-03\n",
      "  2.57879496e-04  5.91244859e-04  1.48338079e-03  3.10505430e-04\n",
      "  6.26460649e-04  6.72062238e-04  1.40131513e-03  1.09231068e-03\n",
      " -7.74939855e-04  9.96430715e-04  4.98780378e-04 -4.82112169e-04\n",
      "  9.45344567e-04  6.94921124e-04 -3.32216422e-04  7.81163573e-04\n",
      "  7.38449084e-04 -2.36878792e-04  6.22267524e-04  6.74389846e-04\n",
      " -5.35170237e-04 -1.67660912e-03  2.60749521e-04 -3.25540702e-04\n",
      " -8.34787885e-04  5.21381890e-04 -5.89579344e-04 -6.36726618e-05\n",
      "  4.32745282e-04 -7.77085622e-04 -3.86938453e-04  3.06166873e-04\n",
      " -6.96450472e-04  3.50932280e-04  3.75634104e-04  1.40531858e-03\n",
      "  8.84920359e-04  8.38580541e-04  1.34681662e-03 -1.43254797e-04\n",
      "  3.77040512e-04 -8.58038664e-04  4.48892514e-04  4.20891858e-04\n",
      " -4.32878733e-04 -5.05104661e-04  5.12492474e-04 -6.68158134e-04\n",
      " -1.15788976e-03  2.87402499e-04 -6.65783882e-04  1.35890643e-03\n",
      "  6.95050277e-04 -6.60260518e-04  1.11708542e-03  5.97600951e-04\n",
      "  0.00000000e+00  0.00000000e+00  0.00000000e+00  0.00000000e+00\n",
      "  0.00000000e+00  0.00000000e+00  0.00000000e+00  0.00000000e+00\n",
      "  0.00000000e+00  0.00000000e+00  0.00000000e+00  0.00000000e+00\n",
      "  0.00000000e+00  0.00000000e+00  0.00000000e+00  0.00000000e+00\n",
      "  0.00000000e+00  0.00000000e+00  0.00000000e+00  0.00000000e+00\n",
      "  0.00000000e+00  0.00000000e+00  0.00000000e+00  0.00000000e+00\n",
      "  0.00000000e+00  0.00000000e+00  0.00000000e+00  0.00000000e+00\n",
      "  0.00000000e+00  0.00000000e+00  0.00000000e+00  0.00000000e+00\n",
      "  0.00000000e+00  0.00000000e+00  0.00000000e+00  0.00000000e+00\n",
      "  0.00000000e+00  0.00000000e+00  0.00000000e+00  0.00000000e+00\n",
      "  0.00000000e+00  0.00000000e+00  0.00000000e+00  0.00000000e+00\n",
      "  0.00000000e+00  0.00000000e+00  0.00000000e+00  0.00000000e+00\n",
      "  0.00000000e+00  0.00000000e+00  0.00000000e+00  0.00000000e+00\n",
      "  0.00000000e+00  0.00000000e+00  0.00000000e+00  0.00000000e+00\n",
      "  0.00000000e+00  0.00000000e+00  0.00000000e+00  0.00000000e+00\n",
      "  0.00000000e+00  0.00000000e+00  0.00000000e+00 -9.16675230e-03\n",
      " -1.18199438e-02  2.16020892e-02 -1.20129089e-02 -1.23690466e-02\n",
      "  2.36688891e-02 -1.54270281e-02 -1.25660871e-02  2.45751882e-02\n",
      " -1.71253333e-02 -1.44402211e-02  2.53476756e-02 -1.76682969e-02\n",
      " -1.70911426e-02  2.58904218e-02 -2.26375461e-02 -1.33790771e-02\n",
      "  2.24750677e-02 -2.84878463e-02 -1.87609320e-02  2.31434084e-02\n",
      " -2.99769888e-02 -2.99346795e-02  2.33621808e-02 -3.00963273e-02\n",
      " -3.96650061e-02  2.32217677e-02 -2.37691204e-02 -1.57275448e-02\n",
      "  2.14567648e-02 -2.01550871e-02 -2.70753652e-02  2.13369710e-02\n",
      " -1.83759630e-02 -2.66260281e-02  2.19402519e-02 -1.80503776e-02\n",
      " -2.29034051e-02  2.25977284e-02 -2.30670522e-02 -1.74682910e-02\n",
      "  2.07020256e-02 -1.85719132e-02 -2.62580315e-02  2.05018459e-02\n",
      " -1.70513491e-02 -2.44430453e-02  2.16606845e-02 -1.63095295e-02\n",
      " -2.16141865e-02  2.26279058e-02 -2.17463871e-02 -1.88727677e-02\n",
      "  2.01619579e-02 -1.73678845e-02 -2.82244608e-02  1.96119347e-02\n",
      " -1.59474760e-02 -2.66874482e-02  2.02852684e-02 -1.52730097e-02\n",
      " -2.41661717e-02  2.09343474e-02]\n"
     ]
    }
   ],
   "source": [
    "print(X_train.shape)\n",
    "print(X_test.shape)\n",
    "print(X_train[0])"
   ]
  },
  {
   "cell_type": "markdown",
   "metadata": {},
   "source": [
    "## 4. Creating pipelines for preprocessing and feature selection \n",
    "\n",
    "Now, we are ready to define our pipelines. You can create the same pipeline as for stage 1 as a baseline, but you will be expected to tune both the feature engineering\n",
    "and pipeline parts of your model iteratively to improve your results."
   ]
  },
  {
   "cell_type": "code",
   "execution_count": 155,
   "metadata": {},
   "outputs": [],
   "source": [
    "from sklearn.preprocessing import StandardScaler, MinMaxScaler, Normalizer\n",
    "from sklearn.feature_selection import SelectFwe, SelectFromModel, SelectKBest, f_classif, chi2, mutual_info_classif\n",
    "from sklearn.linear_model import RidgeClassifier, LogisticRegression\n",
    "from sklearn.decomposition import PCA\n",
    "\n",
    "#chosen PCA instead of LDA as the n_components of LDA has to be <= min(n_classes - 1, n_features) which is 14 in\n",
    "#this case (down from 750). Which is likely to little given the that the features are only x, y or z values.\n",
    "preprocessing = Pipeline([\n",
    "     ('normalizer', Normalizer()),\n",
    "     ('scaler', MinMaxScaler()),\n",
    "     ('decompose', PCA()),\n",
    "     ('rescale', MinMaxScaler()),\n",
    "                        ]) \n",
    "\n",
    "#TODO: define feature selection pipeline here\n",
    "#first we remove the features that mithingsght lead to false results\n",
    "#then we use selectFromModel to assign weights and take the least important features away for generalization\n",
    "#ofcourse only using linear regression models (the same model as the actual classifier)\n",
    "feature_selection = Pipeline([\n",
    "    #('selectFromModel', SelectFromModel(RidgeClassifier(fit_intercept=False))),\n",
    "    ('selectKBest', SelectKBest()),\n",
    "                            ]) "
   ]
  },
  {
   "cell_type": "markdown",
   "metadata": {},
   "source": [
    "## 5. Define a suitable classifier\n",
    "With your preprocessing and feature selection in place, it is now time to define the final element: a suitable classifier. "
   ]
  },
  {
   "cell_type": "code",
   "execution_count": 156,
   "metadata": {},
   "outputs": [],
   "source": [
    "#TODO: define proper classifier\n",
    "classifier = RidgeClassifier(fit_intercept=False, class_weight=\"balanced\")"
   ]
  },
  {
   "cell_type": "markdown",
   "metadata": {},
   "source": [
    "## 6. Set up hyperparameter grid for [GridsearchCV](https://scikit-learn.org/stable/modules/generated/sklearn.model_selection.GridSearchCV.html?highlight=gridsearchcv#sklearn.model_selection.GridSearchCV) object.\n",
    "\n",
    "Now, define your GridSearchCV hyperparameter grid and object.\n"
   ]
  },
  {
   "cell_type": "code",
   "execution_count": 162,
   "metadata": {},
   "outputs": [],
   "source": [
    "param_grid = {\n",
    "    'preprocessing__decompose__n_components':[180],#[\"mle\", None, 50,100,110,120,130,140,150,180,190,200,210,220,250,300,350,400,450,500,550,600,650,700,750],\n",
    "    'feature_selection__selectKBest__score_func': [f_classif],# mutual_info_classif],\n",
    "    'feature_selection__selectKBest__k': [180],#[50,100,110,120,130,140,150,180,190,200,210,220,250,300,350,400,450,500,550,600,650,700,750],\n",
    "    'classifier__alpha': [1],#[1e9, 1e8, 1e7, 1e6, 1e5, 1e4, 1e3, 1e2, 1],\n",
    "    'classifier__tol': [1.0e-5],#[1.0e-5, 1.0e-4,  1.0e-2, 1.0e-1, 0.2, 0.5, 0.7, 0.9]\n",
    "}"
   ]
  },
  {
   "cell_type": "markdown",
   "metadata": {},
   "source": [
    "## 7. Define the number of crossvaldation folds and how to split\n",
    "\n",
    "Now, you should define the number of CV folds and how to split the data.\n",
    "Assuming you had a correct split in the first stage of the competition, you can re-use the same code.\n"
   ]
  },
  {
   "cell_type": "code",
   "execution_count": 163,
   "metadata": {},
   "outputs": [],
   "source": [
    "n_folds = 4\n",
    "\n",
    "# The function below is just an example!\n",
    "#TODO: write a better split function here?\n",
    "#split according to signer for i.i.d. sets\n",
    "def create_folds(X,y,n_folds):\n",
    "    folds = []\n",
    "    cv_object = StratifiedGroupKFold(n_splits = n_folds)\n",
    "    for (train_indices, val_indices) in  cv_object.split(X_train, y_train, groups=signers_train):\n",
    "        folds.append((train_indices,val_indices))\n",
    "    return folds"
   ]
  },
  {
   "cell_type": "markdown",
   "metadata": {},
   "source": [
    "## 8. Training the model\n",
    "Now it is time to put everything together and train the model. As you can see, `GridsearchCV` takes the pipelines as well as the classifier and the hyperparameter dictionary you defined, and uses `create_folds` to create list of train and test indices for each split. Then the model is trained using `cv.fit()` and the model and submission files are written to the file system.\n",
    "\n",
    "In stage 2, this cell is no longer locked and you are free to edit it as you like."
   ]
  },
  {
   "cell_type": "code",
   "execution_count": 164,
   "metadata": {
    "tags": []
   },
   "outputs": [
    {
     "name": "stdout",
     "output_type": "stream",
     "text": [
      "Fitting 4 folds for each of 1 candidates, totalling 4 fits\n"
     ]
    },
    {
     "data": {
      "text/plain": [
       "GridSearchCV(cv=[(array([   0,    1,    2, ..., 2187, 2189, 2190]),\n",
       "                  array([   4,    6,   12,   13,   16,   21,   29,   43,   49,   58,   60,\n",
       "         65,   70,   73,   74,   81,   85,   86,   89,   91,   92,  100,\n",
       "        102,  103,  104,  105,  107,  109,  121,  122,  124,  126,  127,\n",
       "        130,  150,  154,  159,  163,  164,  170,  172,  178,  181,  182,\n",
       "        199,  204,  207,  208,  209,  212,  213,  220,  222,  226,  229,\n",
       "        237,  242,  246,  253,  254,  264,  267,  275,  278,  279,  283,\n",
       "        284,  290,  299,  300,  305,  309,  313,  314,  317,  318,  320,\n",
       "        322,  32...\n",
       "                                       ('classifier',\n",
       "                                        RidgeClassifier(class_weight='balanced',\n",
       "                                                        fit_intercept=False))]),\n",
       "             n_jobs=4,\n",
       "             param_grid={'classifier__alpha': [1], 'classifier__tol': [1e-05],\n",
       "                         'feature_selection__selectKBest__k': [180],\n",
       "                         'feature_selection__selectKBest__score_func': [<function f_classif at 0x7f9a1650e430>],\n",
       "                         'preprocessing__decompose__n_components': [180]},\n",
       "             return_train_score=True, verbose=1)"
      ]
     },
     "execution_count": 164,
     "metadata": {},
     "output_type": "execute_result"
    }
   ],
   "source": [
    "pipeline = Pipeline([\n",
    "    ('preprocessing', preprocessing),\n",
    "    ('feature_selection', feature_selection),\n",
    "    ('classifier', classifier)])\n",
    "\n",
    "folds = create_folds(X_train,y_train,n_folds)\n",
    "assert isinstance(folds,list),'Folds must be presented as tuples of train and test index lists' \n",
    "\n",
    "# train model\n",
    "cv = GridSearchCV(pipeline, param_grid, n_jobs=4, cv=folds, verbose=1, return_train_score=True, refit=True)\n",
    "cv.fit(X_train, y_train)"
   ]
  },
  {
   "cell_type": "code",
   "execution_count": 165,
   "metadata": {},
   "outputs": [],
   "source": [
    "# write out model\n",
    "#make sure student data is filled in to give the file a speaking name\n",
    "assert student_id is not None and student_lastname is not None and student_firstname is not None, 'Please fill in your Name and Student Id'\n",
    "\n",
    "submission_dirname = 'submission'\n",
    "if use_timestamps:\n",
    "    timestamp = time.strftime(\"%Y%m%d-%H%M%S\", time.localtime())\n",
    "    filename_model = os.path.join(submission_dirname,f'stage2_model_{student_id}_{student_lastname}_{student_firstname}_{timestamp}.pkl')\n",
    "    filename_submission =  os.path.join(submission_dirname,f'stage2_{submission_prefix}_{student_id}_{student_lastname}_{student_firstname}_{timestamp}.csv')\n",
    "else:\n",
    "    filename_model = os.path.join(submission_dirname,f'stage2_model_{student_id}_{student_lastname}_{student_firstname}.pkl')\n",
    "    filename_submission =  os.path.join(submission_dirname,f'stage2_{submission_prefix}_{student_id}_{student_lastname}_{student_firstname}.csv')\n",
    "\n",
    "if not os.path.exists(submission_dirname):\n",
    "    os.mkdir(submission_dirname)    \n",
    "\n",
    "with open(filename_model,'wb') as file:\n",
    "    pickle.dump(cv,file)\n",
    "    \n",
    "prediction = label_encoder.inverse_transform(cv.best_estimator_.predict(X_test))\n",
    "utils_for_students.create_submission_file(filename_submission, test_ids, prediction)"
   ]
  },
  {
   "cell_type": "markdown",
   "metadata": {
    "tags": []
   },
   "source": [
    "## 9. Printing scores\n",
    "Here we simply extract a bit more information about the individual scores obtained by the classifers we trained to fit the individual folds. Maybe a few plots may be useful to better understand what your classifier is doing? "
   ]
  },
  {
   "cell_type": "code",
   "execution_count": 166,
   "metadata": {},
   "outputs": [
    {
     "name": "stdout",
     "output_type": "stream",
     "text": [
      "Training accuracy 0.8670931337009667 +/- 0.015119534089671849\n",
      "Cross-validation accuracy: 0.6744103033574015 +/- 0.028485737149889147\n",
      "Best estimator:\n",
      "Pipeline(steps=[('preprocessing',\n",
      "                 Pipeline(steps=[('normalizer', Normalizer()),\n",
      "                                 ('scaler', MinMaxScaler()),\n",
      "                                 ('decompose', PCA(n_components=180)),\n",
      "                                 ('rescale', MinMaxScaler())])),\n",
      "                ('feature_selection',\n",
      "                 Pipeline(steps=[('selectKBest', SelectKBest(k=180))])),\n",
      "                ('classifier',\n",
      "                 RidgeClassifier(alpha=1, class_weight='balanced',\n",
      "                                 fit_intercept=False, tol=1e-05))])\n"
     ]
    }
   ],
   "source": [
    "results = cv.cv_results_\n",
    "mean_train_score = results['mean_train_score'][cv.best_index_]\n",
    "std_train_score = results['std_train_score'][cv.best_index_]\n",
    "mean_cv_score = results['mean_test_score'][cv.best_index_]\n",
    "std_cv_score = results['std_test_score'][cv.best_index_]\n",
    "\n",
    "print('Training accuracy {} +/- {}'.format(mean_train_score, std_train_score))\n",
    "print('Cross-validation accuracy: {} +/- {}'.format(mean_cv_score, std_cv_score))\n",
    "\n",
    "print('Best estimator:')\n",
    "print(cv.best_estimator_)"
   ]
  },
  {
   "cell_type": "code",
   "execution_count": 147,
   "metadata": {},
   "outputs": [
    {
     "name": "stdout",
     "output_type": "stream",
     "text": [
      "Best parameters set found on development set:  {'classifier__alpha': 1, 'classifier__tol': 1e-05, 'feature_selection__selectKBest__k': 180, 'feature_selection__selectKBest__score_func': <function f_classif at 0x7f9a1650e430>, 'preprocessing__decompose__n_components': 190}\n",
      "Grid scores on training data set:\n",
      "\n"
     ]
    },
    {
     "ename": "ValueError",
     "evalue": "x and y must have same first dimension, but have shapes (23,) and (1,)",
     "output_type": "error",
     "traceback": [
      "\u001b[0;31m---------------------------------------------------------------------------\u001b[0m",
      "\u001b[0;31mValueError\u001b[0m                                Traceback (most recent call last)",
      "\u001b[0;32m<ipython-input-147-c989dd37a6ac>\u001b[0m in \u001b[0;36m<module>\u001b[0;34m\u001b[0m\n\u001b[1;32m     27\u001b[0m \u001b[0;31m#C_range = [\"f_classif\", \"chi2\"]\u001b[0m\u001b[0;34m\u001b[0m\u001b[0;34m\u001b[0m\u001b[0;34m\u001b[0m\u001b[0m\n\u001b[1;32m     28\u001b[0m \u001b[0mplt\u001b[0m\u001b[0;34m.\u001b[0m\u001b[0mfigure\u001b[0m\u001b[0;34m(\u001b[0m\u001b[0;34m)\u001b[0m\u001b[0;34m\u001b[0m\u001b[0;34m\u001b[0m\u001b[0m\n\u001b[0;32m---> 29\u001b[0;31m \u001b[0mplt\u001b[0m\u001b[0;34m.\u001b[0m\u001b[0mplot\u001b[0m\u001b[0;34m(\u001b[0m\u001b[0mC_range\u001b[0m\u001b[0;34m,\u001b[0m\u001b[0mtrain_means\u001b[0m\u001b[0;34m,\u001b[0m\u001b[0;34m'g-'\u001b[0m\u001b[0;34m,\u001b[0m\u001b[0mlabel\u001b[0m\u001b[0;34m=\u001b[0m\u001b[0;34m\"train\"\u001b[0m\u001b[0;34m)\u001b[0m\u001b[0;34m\u001b[0m\u001b[0;34m\u001b[0m\u001b[0m\n\u001b[0m\u001b[1;32m     30\u001b[0m \u001b[0mplt\u001b[0m\u001b[0;34m.\u001b[0m\u001b[0mplot\u001b[0m\u001b[0;34m(\u001b[0m\u001b[0mC_range\u001b[0m\u001b[0;34m,\u001b[0m\u001b[0mcv_means\u001b[0m\u001b[0;34m,\u001b[0m\u001b[0;34m'r-'\u001b[0m\u001b[0;34m,\u001b[0m\u001b[0mlabel\u001b[0m\u001b[0;34m=\u001b[0m\u001b[0;34m\"validate\"\u001b[0m\u001b[0;34m)\u001b[0m\u001b[0;34m\u001b[0m\u001b[0;34m\u001b[0m\u001b[0m\n\u001b[1;32m     31\u001b[0m \u001b[0;31m#plt.plot(np.log10(C_range),train_means,'g-',label=\"train\")\u001b[0m\u001b[0;34m\u001b[0m\u001b[0;34m\u001b[0m\u001b[0;34m\u001b[0m\u001b[0m\n",
      "\u001b[0;32m/usr/local/lib/python3.8/dist-packages/matplotlib/pyplot.py\u001b[0m in \u001b[0;36mplot\u001b[0;34m(scalex, scaley, data, *args, **kwargs)\u001b[0m\n\u001b[1;32m   2838\u001b[0m \u001b[0;34m@\u001b[0m\u001b[0m_copy_docstring_and_deprecators\u001b[0m\u001b[0;34m(\u001b[0m\u001b[0mAxes\u001b[0m\u001b[0;34m.\u001b[0m\u001b[0mplot\u001b[0m\u001b[0;34m)\u001b[0m\u001b[0;34m\u001b[0m\u001b[0;34m\u001b[0m\u001b[0m\n\u001b[1;32m   2839\u001b[0m \u001b[0;32mdef\u001b[0m \u001b[0mplot\u001b[0m\u001b[0;34m(\u001b[0m\u001b[0;34m*\u001b[0m\u001b[0margs\u001b[0m\u001b[0;34m,\u001b[0m \u001b[0mscalex\u001b[0m\u001b[0;34m=\u001b[0m\u001b[0;32mTrue\u001b[0m\u001b[0;34m,\u001b[0m \u001b[0mscaley\u001b[0m\u001b[0;34m=\u001b[0m\u001b[0;32mTrue\u001b[0m\u001b[0;34m,\u001b[0m \u001b[0mdata\u001b[0m\u001b[0;34m=\u001b[0m\u001b[0;32mNone\u001b[0m\u001b[0;34m,\u001b[0m \u001b[0;34m**\u001b[0m\u001b[0mkwargs\u001b[0m\u001b[0;34m)\u001b[0m\u001b[0;34m:\u001b[0m\u001b[0;34m\u001b[0m\u001b[0;34m\u001b[0m\u001b[0m\n\u001b[0;32m-> 2840\u001b[0;31m     return gca().plot(\n\u001b[0m\u001b[1;32m   2841\u001b[0m         \u001b[0;34m*\u001b[0m\u001b[0margs\u001b[0m\u001b[0;34m,\u001b[0m \u001b[0mscalex\u001b[0m\u001b[0;34m=\u001b[0m\u001b[0mscalex\u001b[0m\u001b[0;34m,\u001b[0m \u001b[0mscaley\u001b[0m\u001b[0;34m=\u001b[0m\u001b[0mscaley\u001b[0m\u001b[0;34m,\u001b[0m\u001b[0;34m\u001b[0m\u001b[0;34m\u001b[0m\u001b[0m\n\u001b[1;32m   2842\u001b[0m         **({\"data\": data} if data is not None else {}), **kwargs)\n",
      "\u001b[0;32m/usr/local/lib/python3.8/dist-packages/matplotlib/axes/_axes.py\u001b[0m in \u001b[0;36mplot\u001b[0;34m(self, scalex, scaley, data, *args, **kwargs)\u001b[0m\n\u001b[1;32m   1741\u001b[0m         \"\"\"\n\u001b[1;32m   1742\u001b[0m         \u001b[0mkwargs\u001b[0m \u001b[0;34m=\u001b[0m \u001b[0mcbook\u001b[0m\u001b[0;34m.\u001b[0m\u001b[0mnormalize_kwargs\u001b[0m\u001b[0;34m(\u001b[0m\u001b[0mkwargs\u001b[0m\u001b[0;34m,\u001b[0m \u001b[0mmlines\u001b[0m\u001b[0;34m.\u001b[0m\u001b[0mLine2D\u001b[0m\u001b[0;34m)\u001b[0m\u001b[0;34m\u001b[0m\u001b[0;34m\u001b[0m\u001b[0m\n\u001b[0;32m-> 1743\u001b[0;31m         \u001b[0mlines\u001b[0m \u001b[0;34m=\u001b[0m \u001b[0;34m[\u001b[0m\u001b[0;34m*\u001b[0m\u001b[0mself\u001b[0m\u001b[0;34m.\u001b[0m\u001b[0m_get_lines\u001b[0m\u001b[0;34m(\u001b[0m\u001b[0;34m*\u001b[0m\u001b[0margs\u001b[0m\u001b[0;34m,\u001b[0m \u001b[0mdata\u001b[0m\u001b[0;34m=\u001b[0m\u001b[0mdata\u001b[0m\u001b[0;34m,\u001b[0m \u001b[0;34m**\u001b[0m\u001b[0mkwargs\u001b[0m\u001b[0;34m)\u001b[0m\u001b[0;34m]\u001b[0m\u001b[0;34m\u001b[0m\u001b[0;34m\u001b[0m\u001b[0m\n\u001b[0m\u001b[1;32m   1744\u001b[0m         \u001b[0;32mfor\u001b[0m \u001b[0mline\u001b[0m \u001b[0;32min\u001b[0m \u001b[0mlines\u001b[0m\u001b[0;34m:\u001b[0m\u001b[0;34m\u001b[0m\u001b[0;34m\u001b[0m\u001b[0m\n\u001b[1;32m   1745\u001b[0m             \u001b[0mself\u001b[0m\u001b[0;34m.\u001b[0m\u001b[0madd_line\u001b[0m\u001b[0;34m(\u001b[0m\u001b[0mline\u001b[0m\u001b[0;34m)\u001b[0m\u001b[0;34m\u001b[0m\u001b[0;34m\u001b[0m\u001b[0m\n",
      "\u001b[0;32m/usr/local/lib/python3.8/dist-packages/matplotlib/axes/_base.py\u001b[0m in \u001b[0;36m__call__\u001b[0;34m(self, data, *args, **kwargs)\u001b[0m\n\u001b[1;32m    271\u001b[0m                 \u001b[0mthis\u001b[0m \u001b[0;34m+=\u001b[0m \u001b[0margs\u001b[0m\u001b[0;34m[\u001b[0m\u001b[0;36m0\u001b[0m\u001b[0;34m]\u001b[0m\u001b[0;34m,\u001b[0m\u001b[0;34m\u001b[0m\u001b[0;34m\u001b[0m\u001b[0m\n\u001b[1;32m    272\u001b[0m                 \u001b[0margs\u001b[0m \u001b[0;34m=\u001b[0m \u001b[0margs\u001b[0m\u001b[0;34m[\u001b[0m\u001b[0;36m1\u001b[0m\u001b[0;34m:\u001b[0m\u001b[0;34m]\u001b[0m\u001b[0;34m\u001b[0m\u001b[0;34m\u001b[0m\u001b[0m\n\u001b[0;32m--> 273\u001b[0;31m             \u001b[0;32myield\u001b[0m \u001b[0;32mfrom\u001b[0m \u001b[0mself\u001b[0m\u001b[0;34m.\u001b[0m\u001b[0m_plot_args\u001b[0m\u001b[0;34m(\u001b[0m\u001b[0mthis\u001b[0m\u001b[0;34m,\u001b[0m \u001b[0mkwargs\u001b[0m\u001b[0;34m)\u001b[0m\u001b[0;34m\u001b[0m\u001b[0;34m\u001b[0m\u001b[0m\n\u001b[0m\u001b[1;32m    274\u001b[0m \u001b[0;34m\u001b[0m\u001b[0m\n\u001b[1;32m    275\u001b[0m     \u001b[0;32mdef\u001b[0m \u001b[0mget_next_color\u001b[0m\u001b[0;34m(\u001b[0m\u001b[0mself\u001b[0m\u001b[0;34m)\u001b[0m\u001b[0;34m:\u001b[0m\u001b[0;34m\u001b[0m\u001b[0;34m\u001b[0m\u001b[0m\n",
      "\u001b[0;32m/usr/local/lib/python3.8/dist-packages/matplotlib/axes/_base.py\u001b[0m in \u001b[0;36m_plot_args\u001b[0;34m(self, tup, kwargs)\u001b[0m\n\u001b[1;32m    397\u001b[0m \u001b[0;34m\u001b[0m\u001b[0m\n\u001b[1;32m    398\u001b[0m         \u001b[0;32mif\u001b[0m \u001b[0mx\u001b[0m\u001b[0;34m.\u001b[0m\u001b[0mshape\u001b[0m\u001b[0;34m[\u001b[0m\u001b[0;36m0\u001b[0m\u001b[0;34m]\u001b[0m \u001b[0;34m!=\u001b[0m \u001b[0my\u001b[0m\u001b[0;34m.\u001b[0m\u001b[0mshape\u001b[0m\u001b[0;34m[\u001b[0m\u001b[0;36m0\u001b[0m\u001b[0;34m]\u001b[0m\u001b[0;34m:\u001b[0m\u001b[0;34m\u001b[0m\u001b[0;34m\u001b[0m\u001b[0m\n\u001b[0;32m--> 399\u001b[0;31m             raise ValueError(f\"x and y must have same first dimension, but \"\n\u001b[0m\u001b[1;32m    400\u001b[0m                              f\"have shapes {x.shape} and {y.shape}\")\n\u001b[1;32m    401\u001b[0m         \u001b[0;32mif\u001b[0m \u001b[0mx\u001b[0m\u001b[0;34m.\u001b[0m\u001b[0mndim\u001b[0m \u001b[0;34m>\u001b[0m \u001b[0;36m2\u001b[0m \u001b[0;32mor\u001b[0m \u001b[0my\u001b[0m\u001b[0;34m.\u001b[0m\u001b[0mndim\u001b[0m \u001b[0;34m>\u001b[0m \u001b[0;36m2\u001b[0m\u001b[0;34m:\u001b[0m\u001b[0;34m\u001b[0m\u001b[0;34m\u001b[0m\u001b[0m\n",
      "\u001b[0;31mValueError\u001b[0m: x and y must have same first dimension, but have shapes (23,) and (1,)"
     ]
    },
    {
     "data": {
      "image/png": "[encoded data removed]",
      "text/plain": [
       "<Figure size 432x288 with 1 Axes>"
      ]
     },
     "metadata": {
      "needs_background": "light"
     },
     "output_type": "display_data"
    }
   ],
   "source": [
    "# use for visualizing certain evolutions\n",
    "\n",
    "import matplotlib.pyplot as plt\n",
    "\n",
    "print(\"Best parameters set found on development set: \",cv.best_params_)\n",
    "# store the best optimization parameter for later reuse\n",
    "bestC2 = cv.best_params_['classifier__alpha']\n",
    "\n",
    "print(\"Grid scores on training data set:\")\n",
    "print()\n",
    "cv_means = cv.cv_results_['mean_test_score']\n",
    "cv_stds = cv.cv_results_['std_test_score']\n",
    "\n",
    "train_means = cv.cv_results_['mean_train_score']\n",
    "train_stds = cv.cv_results_['std_train_score']\n",
    "\n",
    "#C_range = [0.92, 0.9, 0.8, 0.75, 0.5, 0.2, 1e-1, 5e-2, 2.5e-2]\n",
    "#C_range = [\"0.1*mean\",\"0.15*mean\",\"0.2*mean\",\"0.25*mean\", \"0.75*mean\", \"1*mean\", \"1.2*mean\", \"1.25*mean\", \"1.5*mean\", \"0.2*median\",\"0.3*median\",\"0.4*median\",\"0.5*median\", \"0.75*median\", \"1*median\", \"1.25*median\", \"2*median\", \"2.05*median\", \"2.1*median\", \"2.2*median\"]\n",
    "C_range = [50,100,110,120,130,140,150,180,190,200,210,220,250,300,350,400,450,500,550,600,650,700,750]\n",
    "#C_range = [True, False]\n",
    "#C_range = ['mle', 140, 150, 160, 170, 180, 190, 200, 250, 300, 350, 400, 450, 500, 550, 600, 650, 700, 750]\n",
    "#C_range = [1.0e10, 1.0e9, 1.0e8, 1.0e7, 1.0e6, 1.0e5, 1.0e4, 1.0e3, 1.0e2, 10, 1.0]\n",
    "#C_range = [1.0e-5, 1.0e-4,  1.0e-2, 1.0e-1, 0.2, 0.5, 0.7, 0.9]\n",
    "# C_range = [1.0e-6, 1.0e-4, 1.0e-2, 1.0e-1, 0.2, 0.5, 0.8]\n",
    "#C_range = [1e9, 1e8, 1e7, 1e6, 1e5, 1e4, 1e3, 1e2, 1, 1e-1, 1e-2, 1e-3]\n",
    "#C_range = [1e-2, 2.5e-2, 5e-2, 1e-1, 1.5e-1, 2e-1, 3e-1, 5e-1, 6e-1, 6.5e-1, 7e-1, 9e-1, 9.9e-1, 1]\n",
    "#C_range = [\"f_classif\", \"chi2\"]\n",
    "plt.figure()\n",
    "plt.plot(C_range,train_means,'g-',label=\"train\")\n",
    "plt.plot(C_range,cv_means,'r-',label=\"validate\")\n",
    "#plt.plot(np.log10(C_range),train_means,'g-',label=\"train\")\n",
    "#plt.plot(np.log10(C_range),cv_means,'r-',label=\"validate\")\n",
    "plt.xlabel(\"classifier__C\")\n",
    "plt.ylabel(\"Accuracy\")\n",
    "plt.legend()\n",
    "plt.show()"
   ]
  },
  {
   "cell_type": "code",
   "execution_count": null,
   "metadata": {},
   "outputs": [],
   "source": []
  },
  {
   "cell_type": "code",
   "execution_count": null,
   "metadata": {},
   "outputs": [],
   "source": []
  }
 ],
 "metadata": {
  "interpreter": {
   "hash": "5b96519fadf0e27573d7db6a7c141d11ba6990cab00b556a7220b1bf1bdbac7f"
  },
  "kernelspec": {
   "display_name": "Python 3",
   "language": "python",
   "name": "python3"
  },
  "language_info": {
   "codemirror_mode": {
    "name": "ipython",
    "version": 3
   },
   "file_extension": ".py",
   "mimetype": "text/x-python",
   "name": "python",
   "nbconvert_exporter": "python",
   "pygments_lexer": "ipython3",
   "version": "3.8.10"
  }
 },
 "nbformat": 4,
 "nbformat_minor": 5
}
