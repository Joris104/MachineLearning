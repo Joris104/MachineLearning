{
 "cells": [
  {
   "cell_type": "markdown",
   "id": "95b14de6",
   "metadata": {},
   "source": [
    "# Getting Started Notebook: Stage 2\n",
    "\n",
    "This notebook illustrates how to use the datasets provided to you and will be required to submit your first model.\n",
    "This notebook follows the same structure as the stage 1 notebook, but you will need to perform some additional steps such as feature extraction.\n"
   ]
  },
  {
   "cell_type": "code",
   "execution_count": null,
   "id": "e334b0b1",
   "metadata": {},
   "outputs": [],
   "source": []
  },
  {
   "cell_type": "markdown",
   "id": "f90d0efe",
   "metadata": {},
   "source": [
    "## 1. How to use this Notebook\n",
    "\n",
    "This Notebook is based on the stage 1 notebook and provides a sample structure to load data, extract features, and train and tune a scikit-learn pipeline for stage 2.\n",
    "You are not required to follow this exact structure.\n",
    "After you have completed all necessary steps, this notebook will generate a CSV (.csv) file to be submitted on the [Kaggle competition page](https://www.kaggle.com/c/ugentml21-slc-2/)"
   ]
  },
  {
   "cell_type": "code",
   "execution_count": 1,
   "id": "9f74ce85",
   "metadata": {},
   "outputs": [],
   "source": [
    "# your data, used to name the output file\n",
    "student_id = \"02010068\"\n",
    "student_lastname = \"Dagrain\" \n",
    "student_firstname = \"Miguel\"\n",
    "\n",
    "# change this if you would like your submission outputfile to have a more detailed name, e.g. submission_with_special_preprocessing \n",
    "submission_prefix='submission'\n",
    "\n",
    "# whether or not you want your created models and submissions versioned using timestamps\n",
    "# (setting this to False will overwrite previously exported model and submission files of the same name)\n",
    "use_timestamps = True"
   ]
  },
  {
   "cell_type": "markdown",
   "id": "be670195",
   "metadata": {},
   "source": [
    "## 2. Loading the data\n",
    "\n",
    "The dataset contains videos of people signing in Flemish sign language (Vlaamse Gebarentaal). It consists of 15 classes corresponding to lexical signs. From these videos, 3D keypoints were extracted using MediaPipe Holistic. In total, there are 125 keypoints, resulting in 375 (=3x125) floating point values per video frame.\n",
    "\n",
    "In this stage, we expect that you perform your own feature engineering. As a baseline, you can start by extracting the same set of features as we did for stage 1.\n",
    "You can then compare this and future models with the baseline on the Kaggle competition page.\n",
    "\n",
    "As a reminder: the set of features in stage 1 were the time averages of all keypoint coordinates over the first and the second half of the sample frames, so 750 features in total."
   ]
  },
  {
   "cell_type": "markdown",
   "id": "49784d99",
   "metadata": {},
   "source": [
    "We start by importing the libraries we need: \n",
    "- sklearn and numpy to do machine learning, \n",
    "- csv and pickle read the data and write out submission and model files, \n",
    "- time and os to keep organized with the files we output,\n",
    "- matplotlib to perform visualizations.\n",
    "We also import some specific sklearn components as well as an utils library with some handy extra functions."
   ]
  },
  {
   "cell_type": "code",
   "execution_count": 2,
   "id": "e6e08f2b",
   "metadata": {},
   "outputs": [],
   "source": [
    "import sklearn\n",
    "import numpy as np\n",
    "import csv\n",
    "import pickle\n",
    "import time\n",
    "import os\n",
    "import matplotlib.pyplot as plt\n",
    "\n",
    "%matplotlib inline\n",
    "\n",
    "from sklearn.preprocessing import LabelEncoder\n",
    "from sklearn.pipeline import Pipeline\n",
    "from sklearn.model_selection import StratifiedGroupKFold, GridSearchCV\n",
    "\n",
    "\n",
    "import sys\n",
    "import os\n",
    "from pathlib import Path\n",
    "sys.path.append(str(Path.cwd().parent))\n",
    "\n",
    "\n",
    "from utils_general import utils_for_students"
   ]
  },
  {
   "cell_type": "markdown",
   "id": "e3dd9bf6",
   "metadata": {},
   "source": [
    "We can use our utils_for_students library to load the data from disk. Remember to put the [unzipped files from the competition page](https://www.kaggle.com/c/ugentml21-slc-2/data) into the right paths on your filesystem.\n",
    "\n",
    "**Note: stage 2 uses different data files than stage 1!**"
   ]
  },
  {
   "cell_type": "code",
   "execution_count": 3,
   "id": "bbd29631",
   "metadata": {},
   "outputs": [],
   "source": [
    "train_samples = utils_for_students.load_dataset_stage2('../data/stage2_labels_train.csv', 'train')\n",
    "test_samples = utils_for_students.load_dataset_stage2('../data/stage2_ids_test.csv', 'test')"
   ]
  },
  {
   "cell_type": "markdown",
   "id": "58458efc",
   "metadata": {},
   "source": [
    "For the train data, we get a list of python dictionaries, where each dictionary corresponds to one sign language clip. The dictionary has the following keys:"
   ]
  },
  {
   "cell_type": "code",
   "execution_count": 4,
   "id": "3ad24c9f",
   "metadata": {},
   "outputs": [
    {
     "data": {
      "text/plain": [
       "dict_keys(['path', 'id', 'label', 'signer'])"
      ]
     },
     "execution_count": 4,
     "metadata": {},
     "output_type": "execute_result"
    }
   ],
   "source": [
    "train_samples[0].keys()"
   ]
  },
  {
   "cell_type": "markdown",
   "id": "1806ef90",
   "metadata": {},
   "source": [
    "For the test data, we also get a list of python dictionaries, but with fewer keys:"
   ]
  },
  {
   "cell_type": "code",
   "execution_count": 5,
   "id": "780a4e2a",
   "metadata": {},
   "outputs": [
    {
     "data": {
      "text/plain": [
       "dict_keys(['path', 'id'])"
      ]
     },
     "execution_count": 5,
     "metadata": {},
     "output_type": "execute_result"
    }
   ],
   "source": [
    "test_samples[0].keys()"
   ]
  },
  {
   "cell_type": "markdown",
   "id": "c4ac2665",
   "metadata": {},
   "source": [
    "You can load an individual sample using the provided code."
   ]
  },
  {
   "cell_type": "code",
   "execution_count": 6,
   "id": "2e6a272d",
   "metadata": {},
   "outputs": [],
   "source": [
    "sample = train_samples[0]\n",
    "\n",
    "landmark_sequence = utils_for_students.load_sample_stage2(os.path.join('../data/stage2/train/', sample['path']))"
   ]
  },
  {
   "cell_type": "markdown",
   "id": "a6d06d3f",
   "metadata": {},
   "source": [
    "We can use the utility code to create a visualization of individual video frames of every sign instance."
   ]
  },
  {
   "cell_type": "code",
   "execution_count": 7,
   "id": "423b0271",
   "metadata": {},
   "outputs": [
    {
     "data": {
      "image/png": "[encoded data removed]",
      "text/plain": [
       "<Figure size 432x288 with 1 Axes>"
      ]
     },
     "metadata": {
      "needs_background": "light"
     },
     "output_type": "display_data"
    }
   ],
   "source": [
    "FRAME_INDEX = 0\n",
    "\n",
    "utils_for_students.visualize_pose(landmark_sequence[FRAME_INDEX], plt)"
   ]
  },
  {
   "cell_type": "markdown",
   "id": "101b82a5",
   "metadata": {},
   "source": [
    "In order to get a better grasp of every class in the dataset, we provide some additional information here.\n",
    "\n",
    "There are 15 different classes. Each class corresponds to a sign. Signs can be annotated using sign glosses, which are representations of signs in written form in a spoken language. In the below table, we list all glosses, the English meaning of the corresponding sign, and provide a link to the Flemish sign language dictionary so that you can see an example performance of that sign.\n",
    "\n",
    "| Gloss             | English meaning | Dictionary URL                                                                                        |\n",
    "|-------------------|-----------------|-------------------------------------------------------------------------------------------------------|\n",
    "| c.AF              | Done, finished  | https://vlaamsegebarentaal.be/signbank/dictionary/protected_media/glossvideo/AF/AF-B-209.mp4          |\n",
    "| c.OOK             | Too, also       | https://vlaamsegebarentaal.be/signbank/dictionary/protected_media/glossvideo/OO/OOK-A-8491.mp4        |\n",
    "| ZELFDE-A          | The same        | https://vlaamsegebarentaal.be/signbank/dictionary/protected_media/glossvideo/ZE/ZELFDE-A-14290.mp4    |\n",
    "| AUTO-RIJDEN-A     | To drive a car  | https://vlaamsegebarentaal.be/signbank/dictionary/protected_media/glossvideo/RI/RIJDEN-C-9982.mp4     |\n",
    "| HEBBEN-A          | To have         | https://vlaamsegebarentaal.be/signbank/dictionary/protected_media/glossvideo/HE/HEBBEN-A-4801.mp4     |\n",
    "| HAAS-oor          | Hare            | https://vlaamsegebarentaal.be/signbank/dictionary/protected_media/glossvideo/HA/HAAS-B-16147.mp4      |\n",
    "| AANKOMEN-A        | To arrive       | https://vlaamsegebarentaal.be/signbank/dictionary/protected_media/glossvideo/AA/AANKOMEN-A-39.mp4     |\n",
    "| SCHILDPAD-Bhanden | Turtle          | https://vlaamsegebarentaal.be/signbank/dictionary/protected_media/glossvideo/SC/SCHILDPAD-A-10503.mp4 |\n",
    "| WAT-A             | What            | https://vlaamsegebarentaal.be/signbank/dictionary/protected_media/glossvideo/WA/WAT-A-13657.mp4       |\n",
    "| c.ZIEN            | To see          | https://vlaamsegebarentaal.be/signbank/dictionary/protected_media/glossvideo/BE/BEKIJKEN-A-1157.mp4   |\n",
    "| NAAR-A            | Towards         | https://vlaamsegebarentaal.be/signbank/dictionary/protected_media/glossvideo/GA/GA-NAAR-A-4032.mp4    |\n",
    "| MOETEN-A          | To must         | https://vlaamsegebarentaal.be/signbank/dictionary/protected_media/glossvideo/MO/MOETEN-D-17652.mp4    |\n",
    "| C: 1              | 1               | https://vlaamsegebarentaal.be/signbank/dictionary/protected_media/glossvideo/1-/1-A-15277.mp4         |\n",
    "| GOED-A            | Good            | https://vlaamsegebarentaal.be/signbank/dictionary/protected_media/glossvideo/GO/GOED-C-4413.mp4       |\n",
    "| C: 2              | 2               | https://vlaamsegebarentaal.be/signbank/dictionary/protected_media/glossvideo/2-/2-A-15278.mp4         |"
   ]
  },
  {
   "cell_type": "markdown",
   "id": "8a3859da",
   "metadata": {},
   "source": [
    "## 3. Feature Extraction\n",
    "\n",
    "For stage 1, we performed feature extraction for you.\n",
    "\n",
    "In this stage, you will need to perform feature extraction yourself."
   ]
  },
  {
   "cell_type": "code",
   "execution_count": 8,
   "id": "714a83c1",
   "metadata": {},
   "outputs": [],
   "source": [
    "from utils_feature_preprocessing.transform_frames import transform_to_k_frames, frames_to_features\n",
    "from utils_feature_preprocessing.correct_zero_values import correct_zeros\n",
    "from utils_feature_preprocessing.enlarge_hands import enlarge_hands\n",
    "\n",
    "def extract_features(pose_sequence):\n",
    "    # You should implement this function to return better features!\n",
    "    pose_sequence = correct_zeros(pose_sequence)\n",
    "    pose_sequence = transform_to_k_frames(pose_sequence, k=4)\n",
    "    pose_sequence = enlarge_hands(pose_sequence, scale_factor=2)\n",
    "    features = frames_to_features(pose_sequence)\n",
    "    \n",
    "    return features"
   ]
  },
  {
   "cell_type": "code",
   "execution_count": 10,
   "id": "1a2b8da7",
   "metadata": {},
   "outputs": [],
   "source": [
    "from utils_feature_preprocessing.correct_zero_values import correct_zeros\n",
    "# Concatenate the training set features.\n",
    "X_train = []\n",
    "y_train = []\n",
    "signers_train = []\n",
    "for sample in train_samples:\n",
    "    pose_sequence = utils_for_students.load_sample_stage2(os.path.join('../data/stage2/train/', sample['path']))\n",
    "    #pose_sequence = correct_zeros(pose_sequence)\n",
    "    X_train.append(extract_features(pose_sequence))\n",
    "    y_train.append(sample['label'])\n",
    "    signers_train.append(sample['signer'])\n",
    "    \n",
    "# Concatenate the test set features.\n",
    "X_test = []\n",
    "test_ids = []\n",
    "for sample in test_samples:\n",
    "    pose_sequence = utils_for_students.load_sample_stage2(os.path.join('../data/stage2/test/', sample['path']))\n",
    "    #pose_sequence = correct_zeros(pose_sequence)\n",
    "    X_test.append(extract_features(pose_sequence))\n",
    "    test_ids.append(sample['id'])\n",
    "\n",
    "#Combining to numpy array\n",
    "X_train = np.stack(X_train)\n",
    "X_test = np.stack(X_test)\n",
    "\n",
    "# Encode the labels as integers\n",
    "label_encoder = utils_for_students.label_encoder()\n",
    "y_train = label_encoder.transform(y_train)"
   ]
  },
  {
   "cell_type": "code",
   "execution_count": 11,
   "id": "79eb878e",
   "metadata": {},
   "outputs": [
    {
     "name": "stdout",
     "output_type": "stream",
     "text": [
      "(2191, 750)\n",
      "(541, 750)\n",
      "[ 5.91577282e-01  3.78286968e-01 -2.86928013e-01  6.03643487e-01\n",
      "  3.46427446e-01 -2.58362256e-01  6.10377789e-01  3.47145076e-01\n",
      " -2.58760711e-01  6.17259234e-01  3.47173274e-01 -2.58759312e-01\n",
      "  5.82812428e-01  3.45205933e-01 -2.62428480e-01  5.76285193e-01\n",
      "  3.44554747e-01 -2.62777999e-01  5.70241481e-01  3.43811611e-01\n",
      " -2.63034711e-01  6.27112011e-01  3.53380963e-01 -9.19988013e-02\n",
      "  5.63872258e-01  3.51935064e-01 -1.09662503e-01  6.06627146e-01\n",
      "  4.06948984e-01 -2.19758605e-01  5.82404792e-01  4.04490660e-01\n",
      " -2.27568862e-01  6.65919234e-01  5.14250706e-01  9.42027379e-03\n",
      "  5.16301920e-01  5.04570842e-01 -6.29098974e-02  7.05310414e-01\n",
      "  7.50590682e-01 -8.58137080e-02  5.44967661e-01  7.47737060e-01\n",
      " -2.57351602e-01  5.94993909e-01  7.59710014e-01 -3.54945322e-01\n",
      "  6.19667431e-01  5.40412545e-01 -5.42192280e-01  5.67901512e-01\n",
      "  7.63972978e-01 -4.10544410e-01  6.50521199e-01  4.99925216e-01\n",
      " -6.24869655e-01  5.62727243e-01  7.41009136e-01 -4.11703030e-01\n",
      "  6.41804953e-01  4.68531594e-01 -6.05181098e-01  5.70979118e-01\n",
      "  7.40755598e-01 -3.58120690e-01  6.32731199e-01  4.86443813e-01\n",
      " -5.42564124e-01  5.88259727e-01  3.99179166e-01 -6.83039504e-03\n",
      "  5.89434842e-01  4.04520541e-01 -3.56603720e-03  5.89702487e-01\n",
      "  4.07288199e-01 -2.66970702e-03  5.90216617e-01  4.17104011e-01\n",
      " -2.16437226e-03  5.84590187e-01  3.98627987e-01 -5.60220455e-03\n",
      "  5.81480672e-01  4.00285775e-01 -2.72032498e-03  5.79830577e-01\n",
      "  4.02343988e-01  6.17286758e-04  5.61279058e-01  3.36907883e-01\n",
      "  4.86551768e-03  5.66737761e-01  3.31667900e-01 -2.91593062e-03\n",
      "  5.63217272e-01  3.33199094e-01  7.09601220e-04  5.79230318e-01\n",
      "  3.36198375e-01 -7.95372739e-03  5.78358889e-01  4.05672605e-01\n",
      "  7.45396037e-03  5.61737518e-01  3.29307487e-01  2.13690857e-03\n",
      "  5.71951489e-01  3.32466458e-01 -5.87136027e-03  5.71047316e-01\n",
      "  3.27740545e-01 -6.90395463e-03  5.59849898e-01  3.34271630e-01\n",
      "  7.61215459e-03  5.80273896e-01  4.05011659e-01  6.03681112e-03\n",
      "  5.82899888e-01  4.04498657e-01  1.60156658e-03  5.84595641e-01\n",
      "  4.04574965e-01 -5.37653551e-04  5.86763471e-01  4.04668232e-01\n",
      " -2.42328407e-03  5.86452574e-01  4.16736136e-01 -1.11730475e-03\n",
      "  5.86795052e-01  4.07366912e-01 -1.45472872e-03  5.82730502e-01\n",
      "  4.06589776e-01  2.40833533e-03  5.81084728e-01  4.11396911e-01\n",
      "  2.96981889e-03  5.81658036e-01  4.06161636e-01  4.65172413e-03\n",
      "  5.65553168e-01  3.26981296e-01 -2.60130551e-03  5.77662816e-01\n",
      "  3.29043572e-01 -9.78335614e-03  5.79587420e-01  4.08356587e-01\n",
      "  5.53555802e-03  5.84477683e-01  4.07050038e-01  3.89441103e-04\n",
      "  5.83385020e-01  4.14775843e-01  9.40639026e-04  5.78763048e-01\n",
      "  4.03825561e-01  4.16999039e-03  5.81543952e-01  4.04344330e-01\n",
      "  4.13619921e-03  5.92320989e-01  3.97396833e-01 -7.28728327e-03\n",
      "  5.97197076e-01  3.97923340e-01 -6.08756859e-03  6.00765874e-01\n",
      "  3.98936604e-01 -4.05963681e-03  6.16259078e-01  3.28830947e-01\n",
      " -6.83006768e-03  6.06619636e-01  3.25639943e-01 -1.09995472e-02\n",
      "  6.11978441e-01  3.26003879e-01 -9.47229999e-03  5.92116237e-01\n",
      "  3.34220807e-01 -1.06110539e-02  6.05312794e-01  4.00946324e-01\n",
      "  1.12345312e-03  6.13967647e-01  3.21400175e-01 -8.75447830e-03\n",
      "  6.00032777e-01  3.28178257e-01 -1.14198347e-02  6.00301494e-01\n",
      "  3.23134447e-01 -1.26180787e-02  6.18799398e-01  3.25324943e-01\n",
      " -4.91930971e-03  6.03479018e-01  4.00934860e-01  6.14879644e-04\n",
      "  5.98813206e-01  4.01605422e-01 -2.20719841e-03  5.95934967e-01\n",
      "  4.02618428e-01 -3.36800958e-03  5.92800697e-01  4.03646514e-01\n",
      " -3.99203540e-03  5.94487856e-01  4.15733625e-01 -2.80576960e-03\n",
      "  5.93178441e-01  4.06486531e-01 -3.06484631e-03  5.99354714e-01\n",
      "  4.03849696e-01 -1.37918876e-03  6.01492395e-01  4.08269823e-01\n",
      " -1.19113516e-03  6.01344615e-01  4.02754972e-01 -7.05249495e-05\n",
      "  6.07622812e-01  3.20432107e-01 -1.11448434e-02  5.92591455e-01\n",
      "  3.26543664e-01 -1.26535109e-02  6.03777558e-01  4.04296006e-01\n",
      "  2.48978362e-04  5.96397718e-01  4.05206536e-01 -2.45143671e-03\n",
      "  5.98296434e-01  4.12634229e-01 -2.26534164e-03  6.03675852e-01\n",
      "  3.99524098e-01 -1.60914044e-03  6.01348609e-01  4.00787140e-01\n",
      " -6.41870451e-04  0.00000000e+00  0.00000000e+00  0.00000000e+00\n",
      "  0.00000000e+00  0.00000000e+00  0.00000000e+00  0.00000000e+00\n",
      "  0.00000000e+00  0.00000000e+00  0.00000000e+00  0.00000000e+00\n",
      "  0.00000000e+00  0.00000000e+00  0.00000000e+00  0.00000000e+00\n",
      "  0.00000000e+00  0.00000000e+00  0.00000000e+00  0.00000000e+00\n",
      "  0.00000000e+00  0.00000000e+00  0.00000000e+00  0.00000000e+00\n",
      "  0.00000000e+00  0.00000000e+00  0.00000000e+00  0.00000000e+00\n",
      "  0.00000000e+00  0.00000000e+00  0.00000000e+00  0.00000000e+00\n",
      "  0.00000000e+00  0.00000000e+00  0.00000000e+00  0.00000000e+00\n",
      "  0.00000000e+00  0.00000000e+00  0.00000000e+00  0.00000000e+00\n",
      "  0.00000000e+00  0.00000000e+00  0.00000000e+00  0.00000000e+00\n",
      "  0.00000000e+00  0.00000000e+00  0.00000000e+00  0.00000000e+00\n",
      "  0.00000000e+00  0.00000000e+00  0.00000000e+00  0.00000000e+00\n",
      "  0.00000000e+00  0.00000000e+00  0.00000000e+00  0.00000000e+00\n",
      "  0.00000000e+00  0.00000000e+00  0.00000000e+00  0.00000000e+00\n",
      "  0.00000000e+00  0.00000000e+00  0.00000000e+00  0.00000000e+00\n",
      "  5.04360298e-01  4.38356370e-01  4.57668086e-01  5.05226910e-01\n",
      "  4.07441164e-01  4.62914765e-01  5.12396912e-01  3.83219123e-01\n",
      "  4.63216544e-01  5.21485835e-01  3.74145503e-01  4.61631504e-01\n",
      "  5.29055019e-01  3.74773979e-01  4.60796789e-01  5.23101926e-01\n",
      "  3.64645968e-01  4.60793761e-01  5.32914201e-01  3.39117174e-01\n",
      "  4.58674187e-01  5.38838675e-01  3.28809505e-01  4.57998952e-01\n",
      "  5.42383114e-01  3.22810854e-01  4.57963542e-01  5.30831605e-01\n",
      "  3.73598228e-01  4.56314238e-01  5.44158598e-01  3.70559548e-01\n",
      "  4.55635297e-01  5.43433120e-01  3.80099947e-01  4.57931733e-01\n",
      "  5.39360325e-01  3.86391734e-01  4.59832322e-01  5.36266824e-01\n",
      "  3.88058593e-01  4.51926717e-01  5.45691778e-01  3.91576399e-01\n",
      "  4.52061352e-01  5.42166084e-01  3.98665518e-01  4.54895016e-01\n",
      "  5.37114402e-01  4.01916717e-01  4.56882360e-01  5.40323029e-01\n",
      "  4.04948582e-01  4.47331841e-01  5.46137094e-01  4.09375643e-01\n",
      "  4.48163610e-01  5.42585552e-01  4.14609363e-01  4.50134603e-01\n",
      "  5.37676394e-01  4.17373121e-01  4.51879168e-01  5.95261733e-01\n",
      "  3.78904422e-01 -3.21784779e-01  6.04486793e-01  3.46976548e-01\n",
      " -2.95023059e-01  6.11781468e-01  3.47477486e-01 -2.95440421e-01\n",
      "  6.19259695e-01  3.47476562e-01 -2.95482188e-01  5.84594081e-01\n",
      "  3.45898966e-01 -2.96175251e-01  5.77441504e-01  3.45533088e-01\n",
      " -2.96567063e-01  5.71834534e-01  3.44899933e-01 -2.96839620e-01\n",
      "  6.30285939e-01  3.55619580e-01 -1.30574791e-01  5.63333064e-01\n",
      "  3.52425888e-01 -1.36502991e-01  6.08725399e-01  4.06098326e-01\n",
      " -2.54771476e-01  5.84512432e-01  4.04883444e-01 -2.59014865e-01\n",
      "  6.68072134e-01  5.15191317e-01 -3.89972006e-02  5.17513772e-01\n",
      "  5.04893144e-01 -6.45951964e-02  7.02718675e-01  7.48968015e-01\n",
      " -1.18298904e-01  5.39992164e-01  7.40133534e-01 -2.57030678e-01\n",
      "  5.95962067e-01  7.54513363e-01 -3.58106330e-01  5.98182331e-01\n",
      "  5.33958415e-01 -5.69381863e-01  5.69083432e-01  7.57069558e-01\n",
      " -4.12523568e-01  6.24549031e-01  4.90424027e-01 -6.52254343e-01\n",
      "  5.63233286e-01  7.31962353e-01 -4.15384496e-01  6.14506235e-01\n",
      "  4.62634707e-01 -6.38179074e-01  5.70502510e-01  7.30055938e-01\n",
      " -3.61252328e-01  6.06877188e-01  4.81364409e-01 -5.72773208e-01\n",
      "  5.88451207e-01  3.99955605e-01 -6.42763715e-03  5.89356422e-01\n",
      "  4.04983292e-01 -3.07118117e-03  5.89512875e-01  4.06255806e-01\n",
      " -2.28935794e-03  5.89882404e-01  4.15074721e-01 -2.08398944e-03\n",
      "  5.84772925e-01  3.99274076e-01 -5.42944918e-03  5.81539780e-01\n",
      "  4.00775785e-01 -2.79321820e-03  5.79785575e-01  4.02634492e-01\n",
      "  2.47619861e-04  5.61677674e-01  3.35918958e-01  3.44548440e-03\n",
      "  5.67352047e-01  3.31008072e-01 -3.83233873e-03  5.63749413e-01\n",
      "  3.32447131e-01 -4.79909265e-04  5.80064048e-01  3.35592439e-01\n",
      " -8.18397788e-03  5.78010668e-01  4.05506954e-01  6.66178375e-03\n",
      "  5.62219878e-01  3.28487640e-01  8.63011713e-04  5.72642863e-01\n",
      "  3.31758032e-01 -6.45992602e-03  5.71778119e-01  3.27024281e-01\n",
      " -7.49574990e-03  5.60173402e-01  3.33102569e-01  6.05986795e-03\n",
      "  5.79759657e-01  4.04878890e-01  5.29132636e-03  5.82656304e-01\n",
      "  4.04679080e-01  1.37365959e-03  5.84478329e-01  4.04811184e-01\n",
      " -4.86239531e-04  5.86725831e-01  4.05003125e-01 -2.14228533e-03\n",
      "  5.86239000e-01  4.14746433e-01 -1.28897194e-03  5.86640080e-01\n",
      "  4.06295364e-01 -1.35242242e-03  5.82405945e-01  4.05787677e-01\n",
      "  1.93128343e-03  5.80792040e-01  4.10100644e-01  2.27843782e-03\n",
      "  5.81244498e-01  4.05565043e-01  3.91637844e-03  5.66137105e-01\n",
      "  3.26288179e-01 -3.58489633e-03  5.78604142e-01  3.28397155e-01\n",
      " -1.00267059e-02  5.79235752e-01  4.07641798e-01  4.74683343e-03\n",
      "  5.84258129e-01  4.06047011e-01  1.97231869e-04  5.83162953e-01\n",
      "  4.12991519e-01  4.17729780e-04  5.78557402e-01  4.03980290e-01\n",
      "  3.54947317e-03  5.81160575e-01  4.04495373e-01  3.60872139e-03\n",
      "  5.92465331e-01  3.98391714e-01 -6.70258072e-03  5.97111106e-01\n",
      "  3.99111703e-01 -5.35790832e-03  6.00370874e-01  4.00227398e-01\n",
      " -3.33473773e-03  6.17043217e-01  3.30122789e-01 -5.77480524e-03\n",
      "  6.07920676e-01  3.26442872e-01 -1.02037489e-02  6.13058815e-01\n",
      "  3.27163522e-01 -8.48487827e-03  5.93274007e-01  3.34036946e-01\n",
      " -1.02617140e-02  6.04426265e-01  4.02107378e-01  1.75380499e-03\n",
      "  6.15077287e-01  3.22681939e-01 -7.72869051e-03  6.01372461e-01\n",
      "  3.28436136e-01 -1.08285899e-02  6.01784875e-01  3.23444953e-01\n",
      " -1.19916180e-02  6.19471461e-01  3.26726258e-01 -3.82699903e-03\n",
      "  6.02704078e-01  4.01931291e-01  1.11366002e-03  5.98331094e-01\n",
      "  4.02550767e-01 -1.51227729e-03  5.95602751e-01  4.03399592e-01\n",
      " -2.62956050e-03  5.92563818e-01  4.04268781e-01 -3.31764556e-03\n",
      "  5.93952686e-01  4.14057016e-01 -2.54502008e-03  5.92852900e-01\n",
      "  4.05651743e-01 -2.54346442e-03  5.98765135e-01  4.03786023e-01\n",
      " -9.46443479e-04  6.00715309e-01  4.07882884e-01 -8.84968283e-04\n",
      "  6.00648165e-01  4.03105905e-01  3.05109154e-04  6.09028131e-01\n",
      "  3.21317027e-01 -1.03062629e-02  5.93938271e-01  3.26400409e-01\n",
      " -1.22764704e-02  6.02919519e-01  4.04744898e-01  6.69870220e-04\n",
      "  5.95964839e-01  4.04701432e-01 -1.93894424e-03  5.97628276e-01\n",
      "  4.11476339e-01 -1.97793914e-03  6.03010068e-01  4.00883004e-01\n",
      " -9.14090167e-04  6.00688348e-01  4.01904225e-01 -4.42694994e-05\n",
      "  0.00000000e+00  0.00000000e+00  0.00000000e+00  0.00000000e+00\n",
      "  0.00000000e+00  0.00000000e+00  0.00000000e+00  0.00000000e+00\n",
      "  0.00000000e+00  0.00000000e+00  0.00000000e+00  0.00000000e+00\n",
      "  0.00000000e+00  0.00000000e+00  0.00000000e+00  0.00000000e+00\n",
      "  0.00000000e+00  0.00000000e+00  0.00000000e+00  0.00000000e+00\n",
      "  0.00000000e+00  0.00000000e+00  0.00000000e+00  0.00000000e+00\n",
      "  0.00000000e+00  0.00000000e+00  0.00000000e+00  0.00000000e+00\n",
      "  0.00000000e+00  0.00000000e+00  0.00000000e+00  0.00000000e+00\n",
      "  0.00000000e+00  0.00000000e+00  0.00000000e+00  0.00000000e+00\n",
      "  0.00000000e+00  0.00000000e+00  0.00000000e+00  0.00000000e+00\n",
      "  0.00000000e+00  0.00000000e+00  0.00000000e+00  0.00000000e+00\n",
      "  0.00000000e+00  0.00000000e+00  0.00000000e+00  0.00000000e+00\n",
      "  0.00000000e+00  0.00000000e+00  0.00000000e+00  0.00000000e+00\n",
      "  0.00000000e+00  0.00000000e+00  0.00000000e+00  0.00000000e+00\n",
      "  0.00000000e+00  0.00000000e+00  0.00000000e+00  0.00000000e+00\n",
      "  0.00000000e+00  0.00000000e+00  0.00000000e+00  5.97843518e-01\n",
      "  5.16067783e-01  5.69381863e-01  5.96164862e-01  4.78814920e-01\n",
      "  5.77276486e-01  6.01161420e-01  4.49499115e-01  5.78109833e-01\n",
      "  6.10163659e-01  4.36506256e-01  5.76600004e-01  6.18729730e-01\n",
      "  4.34781437e-01  5.75827293e-01  6.07671460e-01  4.26461513e-01\n",
      "  5.73097062e-01  6.14529808e-01  3.90750304e-01  5.70838466e-01\n",
      "  6.20160639e-01  3.68693888e-01  5.70124166e-01  6.23978128e-01\n",
      "  3.53406524e-01  5.69899861e-01  6.15793665e-01  4.35162604e-01\n",
      "  5.66792411e-01  6.35062993e-01  4.21830167e-01  5.65595941e-01\n",
      "  6.35462860e-01  4.33837995e-01  5.68905031e-01  6.30653302e-01\n",
      "  4.44579894e-01  5.71750106e-01  6.22857412e-01  4.51059967e-01\n",
      "  5.60843630e-01  6.38292938e-01  4.47635045e-01  5.60578378e-01\n",
      "  6.35313968e-01  4.57760413e-01  5.65116690e-01  6.29866193e-01\n",
      "  4.63990306e-01  5.68395865e-01  6.28812780e-01  4.70060438e-01\n",
      "  5.54831178e-01  6.39781266e-01  4.67066849e-01  5.55148919e-01\n",
      "  6.36682659e-01  4.74850376e-01  5.58188152e-01  6.31384412e-01\n",
      "  4.80289544e-01  5.60892470e-01]\n"
     ]
    }
   ],
   "source": [
    "print(X_train.shape)\n",
    "print(X_test.shape)\n",
    "print(X_train[0])"
   ]
  },
  {
   "cell_type": "markdown",
   "id": "62ebf94b",
   "metadata": {},
   "source": [
    "## 4. Creating pipelines for preprocessing and feature selection \n",
    "\n",
    "Now, we are ready to define our pipelines. You can create the same pipeline as for stage 1 as a baseline, but you will be expected to tune both the feature engineering\n",
    "and pipeline parts of your model iteratively to improve your results."
   ]
  },
  {
   "cell_type": "code",
   "execution_count": 12,
   "id": "7eac9063",
   "metadata": {},
   "outputs": [],
   "source": [
    "from sklearn.preprocessing import StandardScaler, MinMaxScaler, Normalizer\n",
    "from sklearn.feature_selection import SelectFwe, SelectFromModel, SelectKBest, f_classif, chi2, mutual_info_classif\n",
    "from sklearn.linear_model import RidgeClassifier, LogisticRegression\n",
    "from sklearn.decomposition import PCA\n",
    "\n",
    "#chosen PCA instead of LDA as the n_components of LDA has to be <= min(n_classes - 1, n_features) which is 14 in\n",
    "#this case (down from 750). Which is likely to little given the that the features are only x, y or z values.\n",
    "preprocessing = Pipeline([\n",
    "     ('normalizer', Normalizer()),\n",
    "     ('scaler', MinMaxScaler()),\n",
    "     ('decompose', PCA()),\n",
    "     ('rescale', MinMaxScaler()),\n",
    "                        ]) \n",
    "\n",
    "#TODO: define feature selection pipeline here\n",
    "#first we remove the features that mithingsght lead to false results\n",
    "#then we use selectFromModel to assign weights and take the least important features away for generalization\n",
    "#ofcourse only using linear regression models (the same model as the actual classifier)\n",
    "feature_selection = Pipeline([\n",
    "    #('selectFromModel', SelectFromModel(RidgeClassifier(fit_intercept=False))),\n",
    "    ('selectKBest', SelectKBest()),\n",
    "                            ]) "
   ]
  },
  {
   "cell_type": "markdown",
   "id": "cbe2b545",
   "metadata": {},
   "source": [
    "## 5. Define a suitable classifier\n",
    "With your preprocessing and feature selection in place, it is now time to define the final element: a suitable classifier. "
   ]
  },
  {
   "cell_type": "code",
   "execution_count": 13,
   "id": "4ec18d92",
   "metadata": {},
   "outputs": [],
   "source": [
    "#TODO: define proper classifier\n",
    "classifier = RidgeClassifier(fit_intercept=False, class_weight=None)"
   ]
  },
  {
   "cell_type": "markdown",
   "id": "7848f85e",
   "metadata": {},
   "source": [
    "## 6. Set up hyperparameter grid for [GridsearchCV](https://scikit-learn.org/stable/modules/generated/sklearn.model_selection.GridSearchCV.html?highlight=gridsearchcv#sklearn.model_selection.GridSearchCV) object.\n",
    "\n",
    "Now, define your GridSearchCV hyperparameter grid and object.\n"
   ]
  },
  {
   "cell_type": "code",
   "execution_count": 14,
   "id": "733e96f2",
   "metadata": {},
   "outputs": [],
   "source": [
    "param_grid = {\n",
    "    'preprocessing__decompose__n_components':[180],#[\"mle\", None, 50,100,110,120,130,140,150,180,190,200,210,220,250,300,350,400,450,500,550,600,650,700,750],\n",
    "    'feature_selection__selectKBest__score_func': [f_classif],# mutual_info_classif],\n",
    "    'feature_selection__selectKBest__k': [180],#[50,100,110,120,130,140,150,180,190,200,210,220,250,300,350,400,450,500,550,600,650,700,750],\n",
    "    'classifier__alpha': [1],#[1e9, 1e8, 1e7, 1e6, 1e5, 1e4, 1e3, 1e2, 1],\n",
    "    'classifier__tol': [1.0e-5],#[1.0e-5, 1.0e-4,  1.0e-2, 1.0e-1, 0.2, 0.5, 0.7, 0.9]\n",
    "}"
   ]
  },
  {
   "cell_type": "markdown",
   "id": "642ff6b2",
   "metadata": {},
   "source": [
    "## 7. Define the number of crossvaldation folds and how to split\n",
    "\n",
    "Now, you should define the number of CV folds and how to split the data.\n",
    "Assuming you had a correct split in the first stage of the competition, you can re-use the same code.\n"
   ]
  },
  {
   "cell_type": "code",
   "execution_count": 15,
   "id": "509f44ee",
   "metadata": {},
   "outputs": [],
   "source": [
    "n_folds = 4\n",
    "\n",
    "# The function below is just an example!\n",
    "#TODO: write a better split function here?\n",
    "#split according to signer for i.i.d. sets\n",
    "def create_folds(X,y,n_folds):\n",
    "    folds = []\n",
    "    cv_object = StratifiedGroupKFold(n_splits = n_folds)\n",
    "    for (train_indices, val_indices) in  cv_object.split(X_train, y_train, groups=signers_train):\n",
    "        folds.append((train_indices,val_indices))\n",
    "    return folds"
   ]
  },
  {
   "cell_type": "markdown",
   "id": "73c650d8",
   "metadata": {},
   "source": [
    "## 8. Training the model\n",
    "Now it is time to put everything together and train the model. As you can see, `GridsearchCV` takes the pipelines as well as the classifier and the hyperparameter dictionary you defined, and uses `create_folds` to create list of train and test indices for each split. Then the model is trained using `cv.fit()` and the model and submission files are written to the file system.\n",
    "\n",
    "In stage 2, this cell is no longer locked and you are free to edit it as you like."
   ]
  },
  {
   "cell_type": "code",
   "execution_count": 16,
   "id": "2f8fd173",
   "metadata": {
    "tags": []
   },
   "outputs": [
    {
     "name": "stdout",
     "output_type": "stream",
     "text": [
      "Fitting 4 folds for each of 1 candidates, totalling 4 fits\n"
     ]
    },
    {
     "data": {
      "text/plain": [
       "GridSearchCV(cv=[(array([   0,    1,    2, ..., 2187, 2189, 2190]),\n",
       "                  array([   4,    6,   12,   13,   16,   21,   29,   43,   49,   58,   60,\n",
       "         65,   70,   73,   74,   81,   85,   86,   89,   91,   92,  100,\n",
       "        102,  103,  104,  105,  107,  109,  121,  122,  124,  126,  127,\n",
       "        130,  150,  154,  159,  163,  164,  170,  172,  178,  181,  182,\n",
       "        199,  204,  207,  208,  209,  212,  213,  220,  222,  226,  229,\n",
       "        237,  242,  246,  253,  254,  264,  267,  275,  278,  279,  283,\n",
       "        284,  290,  299,  300,  305,  309,  313,  314,  317,  318,  320,\n",
       "        322,  32...\n",
       "                                                         SelectKBest())])),\n",
       "                                       ('classifier',\n",
       "                                        RidgeClassifier(fit_intercept=False))]),\n",
       "             n_jobs=4,\n",
       "             param_grid={'classifier__alpha': [1], 'classifier__tol': [1e-05],\n",
       "                         'feature_selection__selectKBest__k': [180],\n",
       "                         'feature_selection__selectKBest__score_func': [<function f_classif at 0x7fb50bbde160>],\n",
       "                         'preprocessing__decompose__n_components': [180]},\n",
       "             return_train_score=True, verbose=1)"
      ]
     },
     "execution_count": 16,
     "metadata": {},
     "output_type": "execute_result"
    }
   ],
   "source": [
    "pipeline = Pipeline([\n",
    "    ('preprocessing', preprocessing),\n",
    "    ('feature_selection', feature_selection),\n",
    "    ('classifier', classifier)])\n",
    "\n",
    "folds = create_folds(X_train,y_train,n_folds)\n",
    "assert isinstance(folds,list),'Folds must be presented as tuples of train and test index lists' \n",
    "\n",
    "# train model\n",
    "cv = GridSearchCV(pipeline, param_grid, n_jobs=4, cv=folds, verbose=1, return_train_score=True, refit=True)\n",
    "cv.fit(X_train, y_train)"
   ]
  },
  {
   "cell_type": "code",
   "execution_count": 17,
   "id": "62a16bab",
   "metadata": {},
   "outputs": [],
   "source": [
    "# write out model\n",
    "#make sure student data is filled in to give the file a speaking name\n",
    "assert student_id is not None and student_lastname is not None and student_firstname is not None, 'Please fill in your Name and Student Id'\n",
    "\n",
    "submission_dirname = 'submission'\n",
    "if use_timestamps:\n",
    "    timestamp = time.strftime(\"%Y%m%d-%H%M%S\", time.localtime())\n",
    "    filename_model = os.path.join(submission_dirname,f'stage2_model_{student_id}_{student_lastname}_{student_firstname}_{timestamp}.pkl')\n",
    "    filename_submission =  os.path.join(submission_dirname,f'stage2_{submission_prefix}_{student_id}_{student_lastname}_{student_firstname}_{timestamp}.csv')\n",
    "else:\n",
    "    filename_model = os.path.join(submission_dirname,f'stage2_model_{student_id}_{student_lastname}_{student_firstname}.pkl')\n",
    "    filename_submission =  os.path.join(submission_dirname,f'stage2_{submission_prefix}_{student_id}_{student_lastname}_{student_firstname}.csv')\n",
    "\n",
    "if not os.path.exists(submission_dirname):\n",
    "    os.mkdir(submission_dirname)    \n",
    "\n",
    "with open(filename_model,'wb') as file:\n",
    "    pickle.dump(cv,file)\n",
    "    \n",
    "prediction = label_encoder.inverse_transform(cv.best_estimator_.predict(X_test))\n",
    "utils_for_students.create_submission_file(filename_submission, test_ids, prediction)"
   ]
  },
  {
   "cell_type": "markdown",
   "id": "4bec4a66",
   "metadata": {
    "tags": []
   },
   "source": [
    "## 9. Printing scores\n",
    "Here we simply extract a bit more information about the individual scores obtained by the classifers we trained to fit the individual folds. Maybe a few plots may be useful to better understand what your classifier is doing? "
   ]
  },
  {
   "cell_type": "code",
   "execution_count": 18,
   "id": "9ca7a1d0",
   "metadata": {},
   "outputs": [
    {
     "name": "stdout",
     "output_type": "stream",
     "text": [
      "Training accuracy 0.8586565721543318 +/- 0.004388490865944807\n",
      "Cross-validation accuracy: 0.6801010039133161 +/- 0.049007374672116306\n",
      "Best estimator:\n",
      "Pipeline(steps=[('preprocessing',\n",
      "                 Pipeline(steps=[('normalizer', Normalizer()),\n",
      "                                 ('scaler', MinMaxScaler()),\n",
      "                                 ('decompose', PCA(n_components=180)),\n",
      "                                 ('rescale', MinMaxScaler())])),\n",
      "                ('feature_selection',\n",
      "                 Pipeline(steps=[('selectKBest', SelectKBest(k=180))])),\n",
      "                ('classifier',\n",
      "                 RidgeClassifier(alpha=1, fit_intercept=False, tol=1e-05))])\n"
     ]
    }
   ],
   "source": [
    "results = cv.cv_results_\n",
    "mean_train_score = results['mean_train_score'][cv.best_index_]\n",
    "std_train_score = results['std_train_score'][cv.best_index_]\n",
    "mean_cv_score = results['mean_test_score'][cv.best_index_]\n",
    "std_cv_score = results['std_test_score'][cv.best_index_]\n",
    "\n",
    "print('Training accuracy {} +/- {}'.format(mean_train_score, std_train_score))\n",
    "print('Cross-validation accuracy: {} +/- {}'.format(mean_cv_score, std_cv_score))\n",
    "\n",
    "print('Best estimator:')\n",
    "print(cv.best_estimator_)"
   ]
  },
  {
   "cell_type": "code",
   "execution_count": 20,
   "id": "16a4b21b",
   "metadata": {},
   "outputs": [
    {
     "data": {
      "image/png": "[encoded data removed]",
      "text/plain": [
       "<Figure size 432x1080 with 3 Axes>"
      ]
     },
     "metadata": {
      "needs_background": "light"
     },
     "output_type": "display_data"
    }
   ],
   "source": [
    "from utils_data_analysis.learning_curve import plot_learning_curve\n",
    "\n",
    "fig, axes = plt.subplots(3, 1, figsize=(6, 15))\n",
    "title = \"Learning Curves\"\n",
    "\n",
    "plot_learning_curve(\n",
    "    cv.best_estimator_, title, X_train, y_train, axes=axes, ylim=(0.0, 1.01), cv=folds, n_jobs=4\n",
    ")\n",
    "\n",
    "plt.show()"
   ]
  },
  {
   "cell_type": "code",
   "execution_count": null,
   "id": "6cb1ef93",
   "metadata": {},
   "outputs": [],
   "source": []
  },
  {
   "cell_type": "code",
   "execution_count": null,
   "id": "ab577b04",
   "metadata": {},
   "outputs": [],
   "source": []
  }
 ],
 "metadata": {
  "interpreter": {
   "hash": "5b96519fadf0e27573d7db6a7c141d11ba6990cab00b556a7220b1bf1bdbac7f"
  },
  "kernelspec": {
   "display_name": "Python ML",
   "language": "python",
   "name": "venv"
  },
  "language_info": {
   "codemirror_mode": {
    "name": "ipython",
    "version": 3
   },
   "file_extension": ".py",
   "mimetype": "text/x-python",
   "name": "python",
   "nbconvert_exporter": "python",
   "pygments_lexer": "ipython3",
   "version": "3.8.10"
  }
 },
 "nbformat": 4,
 "nbformat_minor": 5
}
