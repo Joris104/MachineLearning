{
 "cells": [
  {
   "cell_type": "code",
   "execution_count": null,
   "metadata": {},
   "outputs": [],
   "source": [
    "labels = []\n",
    "for sample in train_samples:\n",
    "    label = sample['label']\n",
    "    if label not in labels:\n",
    "        labels.append(label)"
   ]
  },
  {
   "cell_type": "code",
   "execution_count": null,
   "metadata": {},
   "outputs": [],
   "source": [
    "train_samples_C1 = []\n",
    "train_samples_AANKOMEN_A = []\n",
    "train_samples_AUTO_RIJDEN_A = []\n",
    "train_samples_C2 = []\n",
    "train_samples_ZELFDE_A = []\n",
    "train_samples_WAT_A = []\n",
    "train_samples_HAAS_oor = []\n",
    "train_samples_SCHILDPAD_Bhanden = []\n",
    "train_samples_NAAR_A = []\n",
    "train_samples_cOOK = []\n",
    "train_samples_cAF = []\n",
    "train_samples_HEBBEN_A = []\n",
    "train_samples_cZIEN = []\n",
    "train_samples_GOED_A = []\n",
    "train_samples_MOETEN_A = []"
   ]
  },
  {
   "cell_type": "code",
   "execution_count": null,
   "metadata": {},
   "outputs": [],
   "source": [
    "for sample in train_samples:\n",
    "    label = sample['label']\n",
    "    if label == 'C: 1':\n",
    "        train_samples_C1.append(sample)\n",
    "    elif label == 'AANKOMEN-A':\n",
    "        train_samples_AANKOMEN_A.append(sample)\n",
    "    elif label == 'AUTO-RIJDEN-A':\n",
    "        train_samples_AUTO_RIJDEN_A.append(sample)\n",
    "    elif label == 'C: 2':\n",
    "        train_samples_C2.append(sample)\n",
    "    elif label == 'ZELFDE-A':\n",
    "        train_samples_ZELFDE_A.append(sample)\n",
    "    elif label == 'WAT-A':\n",
    "        train_samples_WAT_A.append(sample)\n",
    "    elif label == 'HAAS-oor':\n",
    "        train_samples_HAAS_oor.append(sample)\n",
    "    elif label == 'SCHILDPAD-Bhanden':\n",
    "        train_samples_SCHILDPAD_Bhanden.append(sample)\n",
    "    elif label == 'NAAR-A':\n",
    "        train_samples_NAAR_A.append(sample)\n",
    "    elif label == 'c.OOK':\n",
    "        train_samples_cOOK.append(sample)\n",
    "    elif label == 'c.AF':\n",
    "        train_samples_cAF.append(sample)\n",
    "    elif label == 'HEBBEN-A':\n",
    "        train_samples_HEBBEN_A.append(sample)\n",
    "    elif label == 'c.ZIEN':\n",
    "        train_samples_cZIEN.append(sample)\n",
    "    elif label == 'GOED-A':\n",
    "        train_samples_GOED_A.append(sample)\n",
    "    elif label == 'MOETEN-A':\n",
    "        train_samples_MOETEN_A.append(sample)"
   ]
  },
  {
   "cell_type": "code",
   "execution_count": null,
   "metadata": {},
   "outputs": [],
   "source": [
    "train_samples_per_label = [\n",
    "train_samples_C1,\n",
    "train_samples_AANKOMEN_A,\n",
    "train_samples_AUTO_RIJDEN_A,\n",
    "train_samples_C2,\n",
    "train_samples_ZELFDE_A,\n",
    "train_samples_WAT_A,\n",
    "train_samples_HAAS_oor,\n",
    "train_samples_SCHILDPAD_Bhanden,\n",
    "train_samples_NAAR_A,\n",
    "train_samples_cOOK,\n",
    "train_samples_cAF,\n",
    "train_samples_HEBBEN_A,\n",
    "train_samples_cZIEN,\n",
    "train_samples_GOED_A,\n",
    "train_samples_MOETEN_A]"
   ]
  },
  {
   "cell_type": "code",
   "execution_count": null,
   "metadata": {},
   "outputs": [],
   "source": [
    "for i in range(len(train_samples_per_label)):\n",
    "    samples = train_samples_per_label[i]\n",
    "    features = []\n",
    "    for sample in samples:\n",
    "        sequence = utils_for_students.load_sample_stage2(os.path.join('data/stage2/train/', sample['path']))\n",
    "        feature = ###FEATURE###\n",
    "        features.append(feature)\n",
    "    print(labels[i])\n",
    "    plt.hist(features)\n",
    "    plt.show()\n",
    "    print(np.mean(features))"
   ]
  }
 ],
 "metadata": {
  "kernelspec": {
   "display_name": "Python 3",
   "language": "python",
   "name": "python3"
  },
  "language_info": {
   "codemirror_mode": {
    "name": "ipython",
    "version": 3
   },
   "file_extension": ".py",
   "mimetype": "text/x-python",
   "name": "python",
   "nbconvert_exporter": "python",
   "pygments_lexer": "ipython3",
   "version": "3.7.4"
  }
 },
 "nbformat": 4,
 "nbformat_minor": 2
}
